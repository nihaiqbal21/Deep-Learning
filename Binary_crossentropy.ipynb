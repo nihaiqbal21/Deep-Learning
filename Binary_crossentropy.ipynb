{
  "nbformat": 4,
  "nbformat_minor": 0,
  "metadata": {
    "colab": {
      "provenance": [],
      "include_colab_link": true
    },
    "kernelspec": {
      "name": "python3",
      "display_name": "Python 3"
    },
    "language_info": {
      "name": "python"
    }
  },
  "cells": [
    {
      "cell_type": "markdown",
      "metadata": {
        "id": "view-in-github",
        "colab_type": "text"
      },
      "source": [
        "<a href=\"https://colab.research.google.com/github/nihaiqbal21/Deep-Learning/blob/main/Binary_crossentropy.ipynb\" target=\"_parent\"><img src=\"https://colab.research.google.com/assets/colab-badge.svg\" alt=\"Open In Colab\"/></a>"
      ]
    },
    {
      "cell_type": "code",
      "execution_count": null,
      "metadata": {
        "id": "cKVzInXrteyO"
      },
      "outputs": [],
      "source": [
        "import numpy as np\n",
        "import pandas as pd\n",
        "import matplotlib.pyplot as plt"
      ]
    },
    {
      "cell_type": "code",
      "source": [
        "df = pd.read_csv('/content/ushape.csv')"
      ],
      "metadata": {
        "id": "l-CtLegnti3_"
      },
      "execution_count": null,
      "outputs": []
    },
    {
      "cell_type": "code",
      "source": [
        "df.head()"
      ],
      "metadata": {
        "colab": {
          "base_uri": "https://localhost:8080/",
          "height": 206
        },
        "id": "T9P8j9Ubtt9t",
        "outputId": "45951604-8eb8-4a6a-b773-f68b17797725"
      },
      "execution_count": null,
      "outputs": [
        {
          "output_type": "execute_result",
          "data": {
            "text/plain": [
              "   3.159499363321345566e-02  9.869877579082642072e-01  \\\n",
              "0                  2.115098                 -0.046244   \n",
              "1                  0.882490                 -0.075756   \n",
              "2                 -0.055144                 -0.037332   \n",
              "3                  0.829545                 -0.539321   \n",
              "4                  2.112857                  0.662084   \n",
              "\n",
              "   0.000000000000000000e+00  \n",
              "0                       1.0  \n",
              "1                       0.0  \n",
              "2                       1.0  \n",
              "3                       1.0  \n",
              "4                       1.0  "
            ],
            "text/html": [
              "\n",
              "  <div id=\"df-55868620-46b8-4454-98fe-45b91eae8d29\" class=\"colab-df-container\">\n",
              "    <div>\n",
              "<style scoped>\n",
              "    .dataframe tbody tr th:only-of-type {\n",
              "        vertical-align: middle;\n",
              "    }\n",
              "\n",
              "    .dataframe tbody tr th {\n",
              "        vertical-align: top;\n",
              "    }\n",
              "\n",
              "    .dataframe thead th {\n",
              "        text-align: right;\n",
              "    }\n",
              "</style>\n",
              "<table border=\"1\" class=\"dataframe\">\n",
              "  <thead>\n",
              "    <tr style=\"text-align: right;\">\n",
              "      <th></th>\n",
              "      <th>3.159499363321345566e-02</th>\n",
              "      <th>9.869877579082642072e-01</th>\n",
              "      <th>0.000000000000000000e+00</th>\n",
              "    </tr>\n",
              "  </thead>\n",
              "  <tbody>\n",
              "    <tr>\n",
              "      <th>0</th>\n",
              "      <td>2.115098</td>\n",
              "      <td>-0.046244</td>\n",
              "      <td>1.0</td>\n",
              "    </tr>\n",
              "    <tr>\n",
              "      <th>1</th>\n",
              "      <td>0.882490</td>\n",
              "      <td>-0.075756</td>\n",
              "      <td>0.0</td>\n",
              "    </tr>\n",
              "    <tr>\n",
              "      <th>2</th>\n",
              "      <td>-0.055144</td>\n",
              "      <td>-0.037332</td>\n",
              "      <td>1.0</td>\n",
              "    </tr>\n",
              "    <tr>\n",
              "      <th>3</th>\n",
              "      <td>0.829545</td>\n",
              "      <td>-0.539321</td>\n",
              "      <td>1.0</td>\n",
              "    </tr>\n",
              "    <tr>\n",
              "      <th>4</th>\n",
              "      <td>2.112857</td>\n",
              "      <td>0.662084</td>\n",
              "      <td>1.0</td>\n",
              "    </tr>\n",
              "  </tbody>\n",
              "</table>\n",
              "</div>\n",
              "    <div class=\"colab-df-buttons\">\n",
              "\n",
              "  <div class=\"colab-df-container\">\n",
              "    <button class=\"colab-df-convert\" onclick=\"convertToInteractive('df-55868620-46b8-4454-98fe-45b91eae8d29')\"\n",
              "            title=\"Convert this dataframe to an interactive table.\"\n",
              "            style=\"display:none;\">\n",
              "\n",
              "  <svg xmlns=\"http://www.w3.org/2000/svg\" height=\"24px\" viewBox=\"0 -960 960 960\">\n",
              "    <path d=\"M120-120v-720h720v720H120Zm60-500h600v-160H180v160Zm220 220h160v-160H400v160Zm0 220h160v-160H400v160ZM180-400h160v-160H180v160Zm440 0h160v-160H620v160ZM180-180h160v-160H180v160Zm440 0h160v-160H620v160Z\"/>\n",
              "  </svg>\n",
              "    </button>\n",
              "\n",
              "  <style>\n",
              "    .colab-df-container {\n",
              "      display:flex;\n",
              "      gap: 12px;\n",
              "    }\n",
              "\n",
              "    .colab-df-convert {\n",
              "      background-color: #E8F0FE;\n",
              "      border: none;\n",
              "      border-radius: 50%;\n",
              "      cursor: pointer;\n",
              "      display: none;\n",
              "      fill: #1967D2;\n",
              "      height: 32px;\n",
              "      padding: 0 0 0 0;\n",
              "      width: 32px;\n",
              "    }\n",
              "\n",
              "    .colab-df-convert:hover {\n",
              "      background-color: #E2EBFA;\n",
              "      box-shadow: 0px 1px 2px rgba(60, 64, 67, 0.3), 0px 1px 3px 1px rgba(60, 64, 67, 0.15);\n",
              "      fill: #174EA6;\n",
              "    }\n",
              "\n",
              "    .colab-df-buttons div {\n",
              "      margin-bottom: 4px;\n",
              "    }\n",
              "\n",
              "    [theme=dark] .colab-df-convert {\n",
              "      background-color: #3B4455;\n",
              "      fill: #D2E3FC;\n",
              "    }\n",
              "\n",
              "    [theme=dark] .colab-df-convert:hover {\n",
              "      background-color: #434B5C;\n",
              "      box-shadow: 0px 1px 3px 1px rgba(0, 0, 0, 0.15);\n",
              "      filter: drop-shadow(0px 1px 2px rgba(0, 0, 0, 0.3));\n",
              "      fill: #FFFFFF;\n",
              "    }\n",
              "  </style>\n",
              "\n",
              "    <script>\n",
              "      const buttonEl =\n",
              "        document.querySelector('#df-55868620-46b8-4454-98fe-45b91eae8d29 button.colab-df-convert');\n",
              "      buttonEl.style.display =\n",
              "        google.colab.kernel.accessAllowed ? 'block' : 'none';\n",
              "\n",
              "      async function convertToInteractive(key) {\n",
              "        const element = document.querySelector('#df-55868620-46b8-4454-98fe-45b91eae8d29');\n",
              "        const dataTable =\n",
              "          await google.colab.kernel.invokeFunction('convertToInteractive',\n",
              "                                                    [key], {});\n",
              "        if (!dataTable) return;\n",
              "\n",
              "        const docLinkHtml = 'Like what you see? Visit the ' +\n",
              "          '<a target=\"_blank\" href=https://colab.research.google.com/notebooks/data_table.ipynb>data table notebook</a>'\n",
              "          + ' to learn more about interactive tables.';\n",
              "        element.innerHTML = '';\n",
              "        dataTable['output_type'] = 'display_data';\n",
              "        await google.colab.output.renderOutput(dataTable, element);\n",
              "        const docLink = document.createElement('div');\n",
              "        docLink.innerHTML = docLinkHtml;\n",
              "        element.appendChild(docLink);\n",
              "      }\n",
              "    </script>\n",
              "  </div>\n",
              "\n",
              "\n",
              "<div id=\"df-3a480c59-abad-41f1-a472-70ca352e7b2c\">\n",
              "  <button class=\"colab-df-quickchart\" onclick=\"quickchart('df-3a480c59-abad-41f1-a472-70ca352e7b2c')\"\n",
              "            title=\"Suggest charts\"\n",
              "            style=\"display:none;\">\n",
              "\n",
              "<svg xmlns=\"http://www.w3.org/2000/svg\" height=\"24px\"viewBox=\"0 0 24 24\"\n",
              "     width=\"24px\">\n",
              "    <g>\n",
              "        <path d=\"M19 3H5c-1.1 0-2 .9-2 2v14c0 1.1.9 2 2 2h14c1.1 0 2-.9 2-2V5c0-1.1-.9-2-2-2zM9 17H7v-7h2v7zm4 0h-2V7h2v10zm4 0h-2v-4h2v4z\"/>\n",
              "    </g>\n",
              "</svg>\n",
              "  </button>\n",
              "\n",
              "<style>\n",
              "  .colab-df-quickchart {\n",
              "      --bg-color: #E8F0FE;\n",
              "      --fill-color: #1967D2;\n",
              "      --hover-bg-color: #E2EBFA;\n",
              "      --hover-fill-color: #174EA6;\n",
              "      --disabled-fill-color: #AAA;\n",
              "      --disabled-bg-color: #DDD;\n",
              "  }\n",
              "\n",
              "  [theme=dark] .colab-df-quickchart {\n",
              "      --bg-color: #3B4455;\n",
              "      --fill-color: #D2E3FC;\n",
              "      --hover-bg-color: #434B5C;\n",
              "      --hover-fill-color: #FFFFFF;\n",
              "      --disabled-bg-color: #3B4455;\n",
              "      --disabled-fill-color: #666;\n",
              "  }\n",
              "\n",
              "  .colab-df-quickchart {\n",
              "    background-color: var(--bg-color);\n",
              "    border: none;\n",
              "    border-radius: 50%;\n",
              "    cursor: pointer;\n",
              "    display: none;\n",
              "    fill: var(--fill-color);\n",
              "    height: 32px;\n",
              "    padding: 0;\n",
              "    width: 32px;\n",
              "  }\n",
              "\n",
              "  .colab-df-quickchart:hover {\n",
              "    background-color: var(--hover-bg-color);\n",
              "    box-shadow: 0 1px 2px rgba(60, 64, 67, 0.3), 0 1px 3px 1px rgba(60, 64, 67, 0.15);\n",
              "    fill: var(--button-hover-fill-color);\n",
              "  }\n",
              "\n",
              "  .colab-df-quickchart-complete:disabled,\n",
              "  .colab-df-quickchart-complete:disabled:hover {\n",
              "    background-color: var(--disabled-bg-color);\n",
              "    fill: var(--disabled-fill-color);\n",
              "    box-shadow: none;\n",
              "  }\n",
              "\n",
              "  .colab-df-spinner {\n",
              "    border: 2px solid var(--fill-color);\n",
              "    border-color: transparent;\n",
              "    border-bottom-color: var(--fill-color);\n",
              "    animation:\n",
              "      spin 1s steps(1) infinite;\n",
              "  }\n",
              "\n",
              "  @keyframes spin {\n",
              "    0% {\n",
              "      border-color: transparent;\n",
              "      border-bottom-color: var(--fill-color);\n",
              "      border-left-color: var(--fill-color);\n",
              "    }\n",
              "    20% {\n",
              "      border-color: transparent;\n",
              "      border-left-color: var(--fill-color);\n",
              "      border-top-color: var(--fill-color);\n",
              "    }\n",
              "    30% {\n",
              "      border-color: transparent;\n",
              "      border-left-color: var(--fill-color);\n",
              "      border-top-color: var(--fill-color);\n",
              "      border-right-color: var(--fill-color);\n",
              "    }\n",
              "    40% {\n",
              "      border-color: transparent;\n",
              "      border-right-color: var(--fill-color);\n",
              "      border-top-color: var(--fill-color);\n",
              "    }\n",
              "    60% {\n",
              "      border-color: transparent;\n",
              "      border-right-color: var(--fill-color);\n",
              "    }\n",
              "    80% {\n",
              "      border-color: transparent;\n",
              "      border-right-color: var(--fill-color);\n",
              "      border-bottom-color: var(--fill-color);\n",
              "    }\n",
              "    90% {\n",
              "      border-color: transparent;\n",
              "      border-bottom-color: var(--fill-color);\n",
              "    }\n",
              "  }\n",
              "</style>\n",
              "\n",
              "  <script>\n",
              "    async function quickchart(key) {\n",
              "      const quickchartButtonEl =\n",
              "        document.querySelector('#' + key + ' button');\n",
              "      quickchartButtonEl.disabled = true;  // To prevent multiple clicks.\n",
              "      quickchartButtonEl.classList.add('colab-df-spinner');\n",
              "      try {\n",
              "        const charts = await google.colab.kernel.invokeFunction(\n",
              "            'suggestCharts', [key], {});\n",
              "      } catch (error) {\n",
              "        console.error('Error during call to suggestCharts:', error);\n",
              "      }\n",
              "      quickchartButtonEl.classList.remove('colab-df-spinner');\n",
              "      quickchartButtonEl.classList.add('colab-df-quickchart-complete');\n",
              "    }\n",
              "    (() => {\n",
              "      let quickchartButtonEl =\n",
              "        document.querySelector('#df-3a480c59-abad-41f1-a472-70ca352e7b2c button');\n",
              "      quickchartButtonEl.style.display =\n",
              "        google.colab.kernel.accessAllowed ? 'block' : 'none';\n",
              "    })();\n",
              "  </script>\n",
              "</div>\n",
              "\n",
              "    </div>\n",
              "  </div>\n"
            ],
            "application/vnd.google.colaboratory.intrinsic+json": {
              "type": "dataframe",
              "variable_name": "df",
              "summary": "{\n  \"name\": \"df\",\n  \"rows\": 99,\n  \"fields\": [\n    {\n      \"column\": \"3.159499363321345566e-02\",\n      \"properties\": {\n        \"dtype\": \"number\",\n        \"std\": 0.8943130566096507,\n        \"min\": -1.318500344394381,\n        \"max\": 2.181371683049025,\n        \"num_unique_values\": 99,\n        \"samples\": [\n          0.1273314190904385,\n          0.6417403675063451,\n          0.21862323352500593\n        ],\n        \"semantic_type\": \"\",\n        \"description\": \"\"\n      }\n    },\n    {\n      \"column\": \"9.869877579082642072e-01\",\n      \"properties\": {\n        \"dtype\": \"number\",\n        \"std\": 0.5909086142970595,\n        \"min\": -1.0357020680498332,\n        \"max\": 1.5718993127141032,\n        \"num_unique_values\": 99,\n        \"samples\": [\n          -0.3796548967118949,\n          -0.39369468370639576,\n          -0.6525211867631453\n        ],\n        \"semantic_type\": \"\",\n        \"description\": \"\"\n      }\n    },\n    {\n      \"column\": \"0.000000000000000000e+00\",\n      \"properties\": {\n        \"dtype\": \"number\",\n        \"std\": 0.5025189076296059,\n        \"min\": 0.0,\n        \"max\": 1.0,\n        \"num_unique_values\": 2,\n        \"samples\": [\n          0.0,\n          1.0\n        ],\n        \"semantic_type\": \"\",\n        \"description\": \"\"\n      }\n    }\n  ]\n}"
            }
          },
          "metadata": {},
          "execution_count": 3
        }
      ]
    },
    {
      "cell_type": "code",
      "source": [
        "X = df.iloc[:,0:2].values\n",
        "y = df.iloc[:,-1].values"
      ],
      "metadata": {
        "id": "nwXuHnqhtwEJ"
      },
      "execution_count": null,
      "outputs": []
    },
    {
      "cell_type": "code",
      "source": [
        "plt.scatter(df['X'],df['Y'],c=df['class'])"
      ],
      "metadata": {
        "colab": {
          "base_uri": "https://localhost:8080/",
          "height": 722
        },
        "id": "ZuYqGD_mtuQG",
        "outputId": "f8a70230-6ad0-4d5a-a8ba-e23a4fac6a52"
      },
      "execution_count": null,
      "outputs": [
        {
          "output_type": "error",
          "ename": "ValueError",
          "evalue": "x and y must be the same size",
          "traceback": [
            "\u001b[0;31m---------------------------------------------------------------------------\u001b[0m",
            "\u001b[0;31mValueError\u001b[0m                                Traceback (most recent call last)",
            "\u001b[0;32m<ipython-input-8-17ebb113aac0>\u001b[0m in \u001b[0;36m<cell line: 1>\u001b[0;34m()\u001b[0m\n\u001b[0;32m----> 1\u001b[0;31m \u001b[0mplt\u001b[0m\u001b[0;34m.\u001b[0m\u001b[0mscatter\u001b[0m\u001b[0;34m(\u001b[0m\u001b[0mx\u001b[0m\u001b[0;34m=\u001b[0m\u001b[0mX\u001b[0m\u001b[0;34m,\u001b[0m\u001b[0my\u001b[0m\u001b[0;34m=\u001b[0m\u001b[0my\u001b[0m\u001b[0;34m)\u001b[0m\u001b[0;34m\u001b[0m\u001b[0;34m\u001b[0m\u001b[0m\n\u001b[0m",
            "\u001b[0;32m/usr/local/lib/python3.10/dist-packages/matplotlib/pyplot.py\u001b[0m in \u001b[0;36mscatter\u001b[0;34m(x, y, s, c, marker, cmap, norm, vmin, vmax, alpha, linewidths, edgecolors, plotnonfinite, data, **kwargs)\u001b[0m\n\u001b[1;32m   2860\u001b[0m         \u001b[0mvmin\u001b[0m\u001b[0;34m=\u001b[0m\u001b[0;32mNone\u001b[0m\u001b[0;34m,\u001b[0m \u001b[0mvmax\u001b[0m\u001b[0;34m=\u001b[0m\u001b[0;32mNone\u001b[0m\u001b[0;34m,\u001b[0m \u001b[0malpha\u001b[0m\u001b[0;34m=\u001b[0m\u001b[0;32mNone\u001b[0m\u001b[0;34m,\u001b[0m \u001b[0mlinewidths\u001b[0m\u001b[0;34m=\u001b[0m\u001b[0;32mNone\u001b[0m\u001b[0;34m,\u001b[0m \u001b[0;34m*\u001b[0m\u001b[0;34m,\u001b[0m\u001b[0;34m\u001b[0m\u001b[0;34m\u001b[0m\u001b[0m\n\u001b[1;32m   2861\u001b[0m         edgecolors=None, plotnonfinite=False, data=None, **kwargs):\n\u001b[0;32m-> 2862\u001b[0;31m     __ret = gca().scatter(\n\u001b[0m\u001b[1;32m   2863\u001b[0m         \u001b[0mx\u001b[0m\u001b[0;34m,\u001b[0m \u001b[0my\u001b[0m\u001b[0;34m,\u001b[0m \u001b[0ms\u001b[0m\u001b[0;34m=\u001b[0m\u001b[0ms\u001b[0m\u001b[0;34m,\u001b[0m \u001b[0mc\u001b[0m\u001b[0;34m=\u001b[0m\u001b[0mc\u001b[0m\u001b[0;34m,\u001b[0m \u001b[0mmarker\u001b[0m\u001b[0;34m=\u001b[0m\u001b[0mmarker\u001b[0m\u001b[0;34m,\u001b[0m \u001b[0mcmap\u001b[0m\u001b[0;34m=\u001b[0m\u001b[0mcmap\u001b[0m\u001b[0;34m,\u001b[0m \u001b[0mnorm\u001b[0m\u001b[0;34m=\u001b[0m\u001b[0mnorm\u001b[0m\u001b[0;34m,\u001b[0m\u001b[0;34m\u001b[0m\u001b[0;34m\u001b[0m\u001b[0m\n\u001b[1;32m   2864\u001b[0m         \u001b[0mvmin\u001b[0m\u001b[0;34m=\u001b[0m\u001b[0mvmin\u001b[0m\u001b[0;34m,\u001b[0m \u001b[0mvmax\u001b[0m\u001b[0;34m=\u001b[0m\u001b[0mvmax\u001b[0m\u001b[0;34m,\u001b[0m \u001b[0malpha\u001b[0m\u001b[0;34m=\u001b[0m\u001b[0malpha\u001b[0m\u001b[0;34m,\u001b[0m \u001b[0mlinewidths\u001b[0m\u001b[0;34m=\u001b[0m\u001b[0mlinewidths\u001b[0m\u001b[0;34m,\u001b[0m\u001b[0;34m\u001b[0m\u001b[0;34m\u001b[0m\u001b[0m\n",
            "\u001b[0;32m/usr/local/lib/python3.10/dist-packages/matplotlib/__init__.py\u001b[0m in \u001b[0;36minner\u001b[0;34m(ax, data, *args, **kwargs)\u001b[0m\n\u001b[1;32m   1440\u001b[0m     \u001b[0;32mdef\u001b[0m \u001b[0minner\u001b[0m\u001b[0;34m(\u001b[0m\u001b[0max\u001b[0m\u001b[0;34m,\u001b[0m \u001b[0;34m*\u001b[0m\u001b[0margs\u001b[0m\u001b[0;34m,\u001b[0m \u001b[0mdata\u001b[0m\u001b[0;34m=\u001b[0m\u001b[0;32mNone\u001b[0m\u001b[0;34m,\u001b[0m \u001b[0;34m**\u001b[0m\u001b[0mkwargs\u001b[0m\u001b[0;34m)\u001b[0m\u001b[0;34m:\u001b[0m\u001b[0;34m\u001b[0m\u001b[0;34m\u001b[0m\u001b[0m\n\u001b[1;32m   1441\u001b[0m         \u001b[0;32mif\u001b[0m \u001b[0mdata\u001b[0m \u001b[0;32mis\u001b[0m \u001b[0;32mNone\u001b[0m\u001b[0;34m:\u001b[0m\u001b[0;34m\u001b[0m\u001b[0;34m\u001b[0m\u001b[0m\n\u001b[0;32m-> 1442\u001b[0;31m             \u001b[0;32mreturn\u001b[0m \u001b[0mfunc\u001b[0m\u001b[0;34m(\u001b[0m\u001b[0max\u001b[0m\u001b[0;34m,\u001b[0m \u001b[0;34m*\u001b[0m\u001b[0mmap\u001b[0m\u001b[0;34m(\u001b[0m\u001b[0msanitize_sequence\u001b[0m\u001b[0;34m,\u001b[0m \u001b[0margs\u001b[0m\u001b[0;34m)\u001b[0m\u001b[0;34m,\u001b[0m \u001b[0;34m**\u001b[0m\u001b[0mkwargs\u001b[0m\u001b[0;34m)\u001b[0m\u001b[0;34m\u001b[0m\u001b[0;34m\u001b[0m\u001b[0m\n\u001b[0m\u001b[1;32m   1443\u001b[0m \u001b[0;34m\u001b[0m\u001b[0m\n\u001b[1;32m   1444\u001b[0m         \u001b[0mbound\u001b[0m \u001b[0;34m=\u001b[0m \u001b[0mnew_sig\u001b[0m\u001b[0;34m.\u001b[0m\u001b[0mbind\u001b[0m\u001b[0;34m(\u001b[0m\u001b[0max\u001b[0m\u001b[0;34m,\u001b[0m \u001b[0;34m*\u001b[0m\u001b[0margs\u001b[0m\u001b[0;34m,\u001b[0m \u001b[0;34m**\u001b[0m\u001b[0mkwargs\u001b[0m\u001b[0;34m)\u001b[0m\u001b[0;34m\u001b[0m\u001b[0;34m\u001b[0m\u001b[0m\n",
            "\u001b[0;32m/usr/local/lib/python3.10/dist-packages/matplotlib/axes/_axes.py\u001b[0m in \u001b[0;36mscatter\u001b[0;34m(self, x, y, s, c, marker, cmap, norm, vmin, vmax, alpha, linewidths, edgecolors, plotnonfinite, **kwargs)\u001b[0m\n\u001b[1;32m   4582\u001b[0m         \u001b[0my\u001b[0m \u001b[0;34m=\u001b[0m \u001b[0mnp\u001b[0m\u001b[0;34m.\u001b[0m\u001b[0mma\u001b[0m\u001b[0;34m.\u001b[0m\u001b[0mravel\u001b[0m\u001b[0;34m(\u001b[0m\u001b[0my\u001b[0m\u001b[0;34m)\u001b[0m\u001b[0;34m\u001b[0m\u001b[0;34m\u001b[0m\u001b[0m\n\u001b[1;32m   4583\u001b[0m         \u001b[0;32mif\u001b[0m \u001b[0mx\u001b[0m\u001b[0;34m.\u001b[0m\u001b[0msize\u001b[0m \u001b[0;34m!=\u001b[0m \u001b[0my\u001b[0m\u001b[0;34m.\u001b[0m\u001b[0msize\u001b[0m\u001b[0;34m:\u001b[0m\u001b[0;34m\u001b[0m\u001b[0;34m\u001b[0m\u001b[0m\n\u001b[0;32m-> 4584\u001b[0;31m             \u001b[0;32mraise\u001b[0m \u001b[0mValueError\u001b[0m\u001b[0;34m(\u001b[0m\u001b[0;34m\"x and y must be the same size\"\u001b[0m\u001b[0;34m)\u001b[0m\u001b[0;34m\u001b[0m\u001b[0;34m\u001b[0m\u001b[0m\n\u001b[0m\u001b[1;32m   4585\u001b[0m \u001b[0;34m\u001b[0m\u001b[0m\n\u001b[1;32m   4586\u001b[0m         \u001b[0;32mif\u001b[0m \u001b[0ms\u001b[0m \u001b[0;32mis\u001b[0m \u001b[0;32mNone\u001b[0m\u001b[0;34m:\u001b[0m\u001b[0;34m\u001b[0m\u001b[0;34m\u001b[0m\u001b[0m\n",
            "\u001b[0;31mValueError\u001b[0m: x and y must be the same size"
          ]
        },
        {
          "output_type": "display_data",
          "data": {
            "text/plain": [
              "<Figure size 640x480 with 1 Axes>"
            ],
            "image/png": "[encoded data removed]"
          },
          "metadata": {}
        }
      ]
    },
    {
      "cell_type": "code",
      "source": [
        "import tensorflow\n",
        "from tensorflow import keras\n",
        "from keras import Sequential\n",
        "from keras.layers import Dense"
      ],
      "metadata": {
        "id": "ylDVIM8Ltx0H"
      },
      "execution_count": null,
      "outputs": []
    },
    {
      "cell_type": "code",
      "source": [
        "model = Sequential()\n",
        "\n",
        "model.add(Dense(10,activation='relu',input_dim=2,kernel_initializer='he_normal'))\n",
        "model.add(Dense(10,activation='relu',kernel_initializer='he_normal'))\n",
        "model.add(Dense(10,activation='relu',kernel_initializer='he_normal'))\n",
        "model.add(Dense(10,activation='relu',kernel_initializer='he_normal'))\n",
        "model.add(Dense(1,activation='sigmoid'))\n",
        "\n",
        "model.summary()"
      ],
      "metadata": {
        "colab": {
          "base_uri": "https://localhost:8080/",
          "height": 344
        },
        "id": "id8rhK5OtzVX",
        "outputId": "ea1cf29a-0428-4060-87d4-671e361f0c6d"
      },
      "execution_count": null,
      "outputs": [
        {
          "output_type": "stream",
          "name": "stderr",
          "text": [
            "/usr/local/lib/python3.10/dist-packages/keras/src/layers/core/dense.py:87: UserWarning: Do not pass an `input_shape`/`input_dim` argument to a layer. When using Sequential models, prefer using an `Input(shape)` object as the first layer in the model instead.\n",
            "  super().__init__(activity_regularizer=activity_regularizer, **kwargs)\n"
          ]
        },
        {
          "output_type": "display_data",
          "data": {
            "text/plain": [
              "\u001b[1mModel: \"sequential\"\u001b[0m\n"
            ],
            "text/html": [
              "<pre style=\"white-space:pre;overflow-x:auto;line-height:normal;font-family:Menlo,'DejaVu Sans Mono',consolas,'Courier New',monospace\"><span style=\"font-weight: bold\">Model: \"sequential\"</span>\n",
              "</pre>\n"
            ]
          },
          "metadata": {}
        },
        {
          "output_type": "display_data",
          "data": {
            "text/plain": [
              "┏━━━━━━━━━━━━━━━━━━━━━━━━━━━━━━━━━━━━━━┳━━━━━━━━━━━━━━━━━━━━━━━━━━━━━┳━━━━━━━━━━━━━━━━━┓\n",
              "┃\u001b[1m \u001b[0m\u001b[1mLayer (type)                        \u001b[0m\u001b[1m \u001b[0m┃\u001b[1m \u001b[0m\u001b[1mOutput Shape               \u001b[0m\u001b[1m \u001b[0m┃\u001b[1m \u001b[0m\u001b[1m        Param #\u001b[0m\u001b[1m \u001b[0m┃\n",
              "┡━━━━━━━━━━━━━━━━━━━━━━━━━━━━━━━━━━━━━━╇━━━━━━━━━━━━━━━━━━━━━━━━━━━━━╇━━━━━━━━━━━━━━━━━┩\n",
              "│ dense (\u001b[38;5;33mDense\u001b[0m)                        │ (\u001b[38;5;45mNone\u001b[0m, \u001b[38;5;34m10\u001b[0m)                  │              \u001b[38;5;34m30\u001b[0m │\n",
              "├──────────────────────────────────────┼─────────────────────────────┼─────────────────┤\n",
              "│ dense_1 (\u001b[38;5;33mDense\u001b[0m)                      │ (\u001b[38;5;45mNone\u001b[0m, \u001b[38;5;34m10\u001b[0m)                  │             \u001b[38;5;34m110\u001b[0m │\n",
              "├──────────────────────────────────────┼─────────────────────────────┼─────────────────┤\n",
              "│ dense_2 (\u001b[38;5;33mDense\u001b[0m)                      │ (\u001b[38;5;45mNone\u001b[0m, \u001b[38;5;34m10\u001b[0m)                  │             \u001b[38;5;34m110\u001b[0m │\n",
              "├──────────────────────────────────────┼─────────────────────────────┼─────────────────┤\n",
              "│ dense_3 (\u001b[38;5;33mDense\u001b[0m)                      │ (\u001b[38;5;45mNone\u001b[0m, \u001b[38;5;34m10\u001b[0m)                  │             \u001b[38;5;34m110\u001b[0m │\n",
              "├──────────────────────────────────────┼─────────────────────────────┼─────────────────┤\n",
              "│ dense_4 (\u001b[38;5;33mDense\u001b[0m)                      │ (\u001b[38;5;45mNone\u001b[0m, \u001b[38;5;34m1\u001b[0m)                   │              \u001b[38;5;34m11\u001b[0m │\n",
              "└──────────────────────────────────────┴─────────────────────────────┴─────────────────┘\n"
            ],
            "text/html": [
              "<pre style=\"white-space:pre;overflow-x:auto;line-height:normal;font-family:Menlo,'DejaVu Sans Mono',consolas,'Courier New',monospace\">┏━━━━━━━━━━━━━━━━━━━━━━━━━━━━━━━━━━━━━━┳━━━━━━━━━━━━━━━━━━━━━━━━━━━━━┳━━━━━━━━━━━━━━━━━┓\n",
              "┃<span style=\"font-weight: bold\"> Layer (type)                         </span>┃<span style=\"font-weight: bold\"> Output Shape                </span>┃<span style=\"font-weight: bold\">         Param # </span>┃\n",
              "┡━━━━━━━━━━━━━━━━━━━━━━━━━━━━━━━━━━━━━━╇━━━━━━━━━━━━━━━━━━━━━━━━━━━━━╇━━━━━━━━━━━━━━━━━┩\n",
              "│ dense (<span style=\"color: #0087ff; text-decoration-color: #0087ff\">Dense</span>)                        │ (<span style=\"color: #00d7ff; text-decoration-color: #00d7ff\">None</span>, <span style=\"color: #00af00; text-decoration-color: #00af00\">10</span>)                  │              <span style=\"color: #00af00; text-decoration-color: #00af00\">30</span> │\n",
              "├──────────────────────────────────────┼─────────────────────────────┼─────────────────┤\n",
              "│ dense_1 (<span style=\"color: #0087ff; text-decoration-color: #0087ff\">Dense</span>)                      │ (<span style=\"color: #00d7ff; text-decoration-color: #00d7ff\">None</span>, <span style=\"color: #00af00; text-decoration-color: #00af00\">10</span>)                  │             <span style=\"color: #00af00; text-decoration-color: #00af00\">110</span> │\n",
              "├──────────────────────────────────────┼─────────────────────────────┼─────────────────┤\n",
              "│ dense_2 (<span style=\"color: #0087ff; text-decoration-color: #0087ff\">Dense</span>)                      │ (<span style=\"color: #00d7ff; text-decoration-color: #00d7ff\">None</span>, <span style=\"color: #00af00; text-decoration-color: #00af00\">10</span>)                  │             <span style=\"color: #00af00; text-decoration-color: #00af00\">110</span> │\n",
              "├──────────────────────────────────────┼─────────────────────────────┼─────────────────┤\n",
              "│ dense_3 (<span style=\"color: #0087ff; text-decoration-color: #0087ff\">Dense</span>)                      │ (<span style=\"color: #00d7ff; text-decoration-color: #00d7ff\">None</span>, <span style=\"color: #00af00; text-decoration-color: #00af00\">10</span>)                  │             <span style=\"color: #00af00; text-decoration-color: #00af00\">110</span> │\n",
              "├──────────────────────────────────────┼─────────────────────────────┼─────────────────┤\n",
              "│ dense_4 (<span style=\"color: #0087ff; text-decoration-color: #0087ff\">Dense</span>)                      │ (<span style=\"color: #00d7ff; text-decoration-color: #00d7ff\">None</span>, <span style=\"color: #00af00; text-decoration-color: #00af00\">1</span>)                   │              <span style=\"color: #00af00; text-decoration-color: #00af00\">11</span> │\n",
              "└──────────────────────────────────────┴─────────────────────────────┴─────────────────┘\n",
              "</pre>\n"
            ]
          },
          "metadata": {}
        },
        {
          "output_type": "display_data",
          "data": {
            "text/plain": [
              "\u001b[1m Total params: \u001b[0m\u001b[38;5;34m371\u001b[0m (1.45 KB)\n"
            ],
            "text/html": [
              "<pre style=\"white-space:pre;overflow-x:auto;line-height:normal;font-family:Menlo,'DejaVu Sans Mono',consolas,'Courier New',monospace\"><span style=\"font-weight: bold\"> Total params: </span><span style=\"color: #00af00; text-decoration-color: #00af00\">371</span> (1.45 KB)\n",
              "</pre>\n"
            ]
          },
          "metadata": {}
        },
        {
          "output_type": "display_data",
          "data": {
            "text/plain": [
              "\u001b[1m Trainable params: \u001b[0m\u001b[38;5;34m371\u001b[0m (1.45 KB)\n"
            ],
            "text/html": [
              "<pre style=\"white-space:pre;overflow-x:auto;line-height:normal;font-family:Menlo,'DejaVu Sans Mono',consolas,'Courier New',monospace\"><span style=\"font-weight: bold\"> Trainable params: </span><span style=\"color: #00af00; text-decoration-color: #00af00\">371</span> (1.45 KB)\n",
              "</pre>\n"
            ]
          },
          "metadata": {}
        },
        {
          "output_type": "display_data",
          "data": {
            "text/plain": [
              "\u001b[1m Non-trainable params: \u001b[0m\u001b[38;5;34m0\u001b[0m (0.00 B)\n"
            ],
            "text/html": [
              "<pre style=\"white-space:pre;overflow-x:auto;line-height:normal;font-family:Menlo,'DejaVu Sans Mono',consolas,'Courier New',monospace\"><span style=\"font-weight: bold\"> Non-trainable params: </span><span style=\"color: #00af00; text-decoration-color: #00af00\">0</span> (0.00 B)\n",
              "</pre>\n"
            ]
          },
          "metadata": {}
        }
      ]
    },
    {
      "cell_type": "code",
      "source": [
        "model.get_weights()"
      ],
      "metadata": {
        "colab": {
          "base_uri": "https://localhost:8080/"
        },
        "id": "YjST2L1qt1UP",
        "outputId": "e64c73df-ec84-4db0-d9d8-cffb4c8d064e"
      },
      "execution_count": null,
      "outputs": [
        {
          "output_type": "execute_result",
          "data": {
            "text/plain": [
              "[array([[ 0.80805534, -0.35605425,  0.53783727,  1.8619008 , -0.9933694 ,\n",
              "         -0.19637851,  0.9014104 ,  1.555366  ,  0.19436887, -1.1073289 ],\n",
              "        [ 1.6972094 , -0.06064867, -1.3892968 ,  0.5724722 ,  1.685105  ,\n",
              "         -0.43526128,  0.51190543, -0.48558447,  1.1103424 , -0.05144652]],\n",
              "       dtype=float32),\n",
              " array([0., 0., 0., 0., 0., 0., 0., 0., 0., 0.], dtype=float32),\n",
              " array([[ 1.3222793e-02,  2.4491644e-02, -1.8490802e-01,  5.8055893e-03,\n",
              "          1.6850819e-01, -8.5955656e-01,  2.8962087e-02,  5.4293454e-01,\n",
              "          3.6758235e-01, -8.1939918e-01],\n",
              "        [ 3.8029316e-01,  8.1356335e-01, -1.9465302e-01, -1.0399992e-01,\n",
              "         -1.3464764e-02, -4.8903769e-01,  8.1231540e-01, -7.9655880e-01,\n",
              "         -6.8388820e-01,  2.2399738e-01],\n",
              "        [ 4.8090386e-01,  6.2475228e-01,  8.3898589e-02, -2.4827918e-01,\n",
              "          8.2926667e-01, -2.8809714e-01,  3.2799354e-01,  4.0587220e-01,\n",
              "         -2.7106914e-01, -5.0432366e-01],\n",
              "        [ 7.5546199e-01, -5.1840174e-01,  2.2432046e-02, -4.6418339e-01,\n",
              "          1.1431716e-01,  4.4772479e-01,  9.6202356e-01,  1.3029885e-01,\n",
              "          8.2010768e-02, -4.2687684e-02],\n",
              "        [ 5.1795775e-01, -5.1046717e-01, -4.2402515e-01, -5.5304223e-01,\n",
              "          1.1212248e-01, -1.3712351e-03,  8.7732665e-04,  9.0797085e-01,\n",
              "         -9.1510221e-02, -1.9584215e-01],\n",
              "        [ 7.7016044e-01, -3.2422122e-01, -1.4224944e-01,  5.3739524e-01,\n",
              "          1.9058429e-01, -4.2475572e-01, -9.7732699e-01, -8.5182237e-03,\n",
              "          1.9618829e-01,  3.9412498e-01],\n",
              "        [ 5.0041405e-03, -6.1235768e-01, -5.1773882e-01, -3.7551012e-02,\n",
              "         -3.9457783e-01,  1.9964206e-01,  5.9448564e-01, -1.2551215e-01,\n",
              "          8.9032596e-01,  5.3291768e-01],\n",
              "        [ 5.2489686e-01, -7.6100433e-01,  7.1056321e-02, -2.6074147e-01,\n",
              "         -1.4295734e-01,  2.5630686e-01, -2.3626366e-01,  8.7350804e-01,\n",
              "          2.5989002e-01, -4.9776527e-01],\n",
              "        [ 4.3955448e-01, -7.9179877e-01,  8.7593597e-01,  2.7388397e-01,\n",
              "          1.8555805e-01, -5.4795420e-01, -1.9378115e-01,  6.2571037e-01,\n",
              "         -6.9540001e-02, -9.4781214e-01],\n",
              "        [ 6.0557985e-01, -6.0585264e-02, -8.4007382e-01, -8.3786047e-01,\n",
              "          2.2258733e-01,  4.7601590e-01,  3.3990273e-01, -1.6833000e-01,\n",
              "          7.1616933e-02,  3.5120109e-01]], dtype=float32),\n",
              " array([0., 0., 0., 0., 0., 0., 0., 0., 0., 0.], dtype=float32),\n",
              " array([[ 0.64011353, -0.77839565,  0.31571472, -0.3721744 , -0.48187643,\n",
              "         -0.6226109 ,  0.08232695, -0.38246295, -0.31461462, -0.28453925],\n",
              "        [ 0.27152628,  0.04681495,  0.47042835,  0.13609973, -0.3197435 ,\n",
              "          0.7437906 ,  0.03062723, -0.13196284,  0.80468506, -0.12404124],\n",
              "        [-0.21813   ,  0.3123529 ,  0.19219711, -0.1084321 ,  0.00222326,\n",
              "         -0.81500727, -0.6162284 ,  0.20471759, -0.06095024,  0.42106572],\n",
              "        [-0.24101573, -0.4788894 , -0.603421  , -0.15112935,  0.09764215,\n",
              "         -0.08622282,  0.7550158 , -0.05323299,  0.7575248 , -0.41445953],\n",
              "        [-0.27800873,  0.1257482 , -0.6454102 , -0.09090588,  0.06010288,\n",
              "          0.07917484,  0.6362604 , -0.03318109, -0.10821891,  0.23886609],\n",
              "        [ 0.5185309 ,  0.38959357,  0.12466593, -0.26181304, -0.45680594,\n",
              "         -0.04276424, -0.1388698 , -0.33279458,  0.9851439 ,  0.614901  ],\n",
              "        [ 0.23681462, -0.6253882 , -0.62841684, -0.28511858, -0.26646826,\n",
              "          0.03011257, -0.72841805,  0.39084348, -0.1851993 ,  0.5669039 ],\n",
              "        [-0.67270184,  0.0597476 , -0.23554282,  0.7951761 , -0.38833344,\n",
              "         -0.4474958 ,  0.5509713 ,  0.640045  , -0.19800386,  0.19957507],\n",
              "        [ 0.07386165, -0.2949144 ,  0.02756483,  0.321474  ,  0.93188953,\n",
              "         -0.4678375 ,  0.6033914 ,  0.745673  ,  0.957956  , -0.08272335],\n",
              "        [-0.65660197, -0.76563394, -0.2637072 , -0.71766263, -0.24110053,\n",
              "          0.33056745,  0.5523364 ,  0.25148875,  0.53065145,  0.22050883]],\n",
              "       dtype=float32),\n",
              " array([0., 0., 0., 0., 0., 0., 0., 0., 0., 0.], dtype=float32),\n",
              " array([[-0.3358046 ,  0.03083438,  0.3534683 ,  0.67352724, -0.6186311 ,\n",
              "          0.04847246,  0.493417  , -0.12211995,  0.30899358, -0.5494619 ],\n",
              "        [-0.29640082, -0.09056573, -0.15079375, -0.04827031, -0.14011917,\n",
              "         -0.00605685,  0.6210893 ,  0.11542458, -0.39265472, -0.00268824],\n",
              "        [ 0.48500985, -0.58520335, -0.51876855,  0.10348606,  0.3079853 ,\n",
              "          0.42813057,  0.51602304, -0.20250875,  0.15539639, -0.16275652],\n",
              "        [ 0.3869612 , -0.6872567 , -0.6079222 ,  0.39978334, -0.13437688,\n",
              "          0.4422694 ,  0.02612815,  0.6600129 ,  0.01922906, -0.73644847],\n",
              "        [ 0.5929659 ,  0.5895081 ,  0.8803613 ,  0.48694292, -0.3730737 ,\n",
              "          0.7142348 , -0.9369999 , -0.18620072,  0.06890371, -0.3537774 ],\n",
              "        [-0.50870967, -0.29826427,  0.71529835,  0.12519528,  0.17732167,\n",
              "         -0.14376552, -0.6136244 , -0.5690902 , -0.5156468 , -0.1638289 ],\n",
              "        [-0.2507919 , -0.10544652,  0.83207244,  0.4626153 ,  0.5410091 ,\n",
              "          0.3764519 , -0.13328803,  0.5203133 , -0.30567592,  0.31844148],\n",
              "        [-0.22451492, -0.5230815 ,  0.13595046, -0.34821925,  0.07671455,\n",
              "          0.27589428,  0.48976418, -0.7768927 ,  0.04233641, -0.3602162 ],\n",
              "        [ 0.11255239,  0.69028497, -0.1475421 , -0.60082024,  0.75453645,\n",
              "         -0.18233225, -0.37839657,  0.48915762,  0.5294298 , -0.74274623],\n",
              "        [ 0.5345615 ,  0.13122731,  0.26881722, -0.39083314,  0.5469083 ,\n",
              "          0.35593167,  0.8921535 ,  0.85324556,  0.9558376 ,  0.3968616 ]],\n",
              "       dtype=float32),\n",
              " array([0., 0., 0., 0., 0., 0., 0., 0., 0., 0.], dtype=float32),\n",
              " array([[ 0.5277527 ],\n",
              "        [ 0.59509176],\n",
              "        [ 0.42572433],\n",
              "        [ 0.34166044],\n",
              "        [ 0.4639526 ],\n",
              "        [ 0.6627181 ],\n",
              "        [ 0.14086825],\n",
              "        [ 0.31916982],\n",
              "        [ 0.2966712 ],\n",
              "        [-0.08336425]], dtype=float32),\n",
              " array([0.], dtype=float32)]"
            ]
          },
          "metadata": {},
          "execution_count": 12
        }
      ]
    },
    {
      "cell_type": "code",
      "source": [
        "initial_weights = model.get_weights()"
      ],
      "metadata": {
        "id": "SNnRle4Dt4bc"
      },
      "execution_count": null,
      "outputs": []
    },
    {
      "cell_type": "code",
      "source": [
        "initial_weights[0] = np.random.randn(2,10)*np.sqrt(1/2)\n",
        "initial_weights[1] = np.zeros(model.get_weights()[1].shape)\n",
        "initial_weights[2] = np.random.randn(10,10)*np.sqrt(1/10)\n",
        "initial_weights[3] = np.zeros(model.get_weights()[3].shape)\n",
        "initial_weights[4] = np.random.randn(10,10)*np.sqrt(1/10)\n",
        "initial_weights[5] = np.zeros(model.get_weights()[5].shape)\n",
        "initial_weights[6] = np.random.randn(10,10)*np.sqrt(1/10)\n",
        "initial_weights[7] = np.zeros(model.get_weights()[7].shape)\n",
        "initial_weights[8] = np.random.randn(10,1)*np.sqrt(1/10)\n",
        "initial_weights[9] = np.zeros(model.get_weights()[9].shape)"
      ],
      "metadata": {
        "id": "T6mklkSot6GI"
      },
      "execution_count": null,
      "outputs": []
    },
    {
      "cell_type": "code",
      "source": [
        "model.set_weights(initial_weights)"
      ],
      "metadata": {
        "id": "cnoX9yK8ueEM"
      },
      "execution_count": null,
      "outputs": []
    },
    {
      "cell_type": "code",
      "source": [
        "model.get_weights()"
      ],
      "metadata": {
        "colab": {
          "base_uri": "https://localhost:8080/"
        },
        "id": "1guey_KUujTP",
        "outputId": "f5675c67-e7d8-4601-8af9-79d6eabe4581"
      },
      "execution_count": null,
      "outputs": [
        {
          "output_type": "execute_result",
          "data": {
            "text/plain": [
              "[array([[ 0.5180072 ,  0.16225736,  0.67386764, -0.8546273 , -0.43666178,\n",
              "          0.1207845 , -0.4226007 ,  0.60902935,  0.5096117 , -0.2344063 ],\n",
              "        [-0.78080344,  1.329901  , -0.01470076,  0.689025  ,  0.07708385,\n",
              "          0.382319  ,  0.7685956 , -0.64289033, -0.26889193,  0.49874374]],\n",
              "       dtype=float32),\n",
              " array([0., 0., 0., 0., 0., 0., 0., 0., 0., 0.], dtype=float32),\n",
              " array([[-0.5328621 , -0.2085833 ,  0.26511577,  0.21361777, -0.34441337,\n",
              "         -0.18634656,  0.12371431,  0.7203056 , -0.04919607,  0.0667033 ],\n",
              "        [ 0.20328265, -0.32462126, -0.52171   , -0.46045786,  0.13643679,\n",
              "          0.3909053 ,  0.46656916,  0.04414489, -0.06850688,  0.2871738 ],\n",
              "        [-0.45075956, -0.06831715, -0.03461746,  0.59767175, -0.19840816,\n",
              "          0.0674531 ,  0.15415841, -0.08497117, -0.4060078 , -0.03034441],\n",
              "        [-0.34574708,  0.58872133,  0.16363943, -0.1570713 , -0.2536544 ,\n",
              "          0.08632497, -0.15747215, -0.49841443, -0.40271974, -0.44067723],\n",
              "        [-0.13136218,  0.31378567,  0.20108287, -0.2593789 ,  0.19342637,\n",
              "          0.27378887, -0.22287226, -0.09701515,  0.8153637 ,  0.21487594],\n",
              "        [ 0.1201231 , -0.3470038 ,  0.45267087,  0.2748374 ,  0.02173203,\n",
              "         -1.1944515 ,  0.43497136,  0.04353591,  0.15320542, -0.15240043],\n",
              "        [-0.4078449 ,  0.22765349,  0.79726076,  0.00137331,  0.29310894,\n",
              "          0.05713097,  0.2109007 ,  0.09332074,  0.15252551,  0.40600294],\n",
              "        [-0.11731236,  0.05966557, -0.06751794,  0.38005978,  0.21599004,\n",
              "         -0.16620995, -0.18801633,  0.15409674,  0.6811042 , -0.19761173],\n",
              "        [-0.24503879,  0.13433453, -0.1798804 ,  0.3344103 , -0.1953736 ,\n",
              "         -0.8045887 ,  0.21556042, -0.2582409 , -0.04511334,  0.09139983],\n",
              "        [ 0.28286776,  0.6652332 ,  0.3382578 , -0.06507502, -0.5736613 ,\n",
              "         -0.30451193, -0.51245123,  0.04113027,  0.31798166, -0.2625011 ]],\n",
              "       dtype=float32),\n",
              " array([0., 0., 0., 0., 0., 0., 0., 0., 0., 0.], dtype=float32),\n",
              " array([[ 0.57167816, -0.46891046, -0.18370485,  0.14003442,  0.1197208 ,\n",
              "         -0.74758554, -0.6310735 , -0.31212598,  0.01334627,  0.6368363 ],\n",
              "        [-0.362877  ,  0.03015871, -0.3030602 , -0.19565447,  0.00917542,\n",
              "         -0.21258575,  0.09812463,  0.34615433,  0.39427677,  0.18899263],\n",
              "        [ 0.6486337 , -0.09422089,  0.18784873, -0.10157939, -0.14614737,\n",
              "          0.2304229 ,  0.25900322, -0.33459672, -0.47573438,  0.2354635 ],\n",
              "        [ 0.33150607, -0.3365838 , -0.48789358, -0.37329942,  0.36632997,\n",
              "          0.19069664, -0.62233216,  0.14643346, -0.0268468 ,  0.10177398],\n",
              "        [-0.38299644,  0.20142113,  0.28025204,  0.23589288,  0.03481588,\n",
              "          0.16311365,  0.7881107 ,  0.2669236 ,  0.05505751,  0.14940597],\n",
              "        [-0.3462403 ,  0.4653265 , -0.45484096, -0.40482122,  0.72665614,\n",
              "          0.06685416, -0.39505112, -0.04212297,  0.6987104 ,  0.3735274 ],\n",
              "        [-0.06112263,  0.2565096 ,  0.3881406 , -0.18295825, -0.35766843,\n",
              "          0.44906524, -0.34511533,  0.10228726,  0.11798929, -0.18784092],\n",
              "        [-0.04732688, -0.2935657 , -0.09752073,  0.31702456,  0.34766573,\n",
              "          0.0075197 , -0.31204742, -0.26630816, -0.16163263, -0.04144674],\n",
              "        [-0.3163225 , -0.07904117,  0.17559065, -0.20408559,  0.06819566,\n",
              "         -0.01538988, -0.18311836,  0.61149865, -0.1607834 ,  0.11625475],\n",
              "        [ 0.73239964, -0.03272953,  0.24153997,  0.35693723,  0.23012973,\n",
              "          0.44785932,  0.77881026,  0.33531338, -0.28412446, -0.34075394]],\n",
              "       dtype=float32),\n",
              " array([0., 0., 0., 0., 0., 0., 0., 0., 0., 0.], dtype=float32),\n",
              " array([[ 0.05521689,  0.45028198, -0.52272916,  0.38999015,  0.02629643,\n",
              "          0.14177102,  0.31113988, -0.1517611 ,  0.61622065, -0.12784015],\n",
              "        [-0.32111552,  0.02744653,  0.5117329 ,  0.11609867,  0.08235109,\n",
              "         -0.39995873,  0.11438143, -0.00434058, -0.06483216,  0.13075244],\n",
              "        [ 0.3494459 ,  0.15867534, -0.06551178,  0.09943211, -0.09808937,\n",
              "          0.05894594, -0.2957616 ,  0.32161403,  0.26875788,  0.380948  ],\n",
              "        [ 0.18503158,  0.03565834, -0.10711856, -0.05088347, -0.3478234 ,\n",
              "         -0.51633865, -0.36320826,  0.3478007 ,  0.00311468,  0.46802762],\n",
              "        [ 0.05289972,  0.02548509,  0.4521279 ,  0.31284282, -0.14379406,\n",
              "          0.21754934,  0.7289414 ,  0.03430017, -0.23039329, -0.4566576 ],\n",
              "        [-0.04900269, -0.37140754,  0.3765976 , -0.20492205,  0.01328219,\n",
              "         -0.336362  , -0.00758821,  0.277335  ,  0.12733789,  0.24881016],\n",
              "        [-0.35197034,  0.22904389, -0.6702074 , -0.22304408,  0.32808995,\n",
              "          0.44524768, -0.36216986,  0.37477157, -0.33040455, -0.24280308],\n",
              "        [-0.1014013 , -0.20206538, -0.20548357,  0.4295171 ,  0.21756098,\n",
              "          0.26715994, -0.03838639,  0.27806708,  0.44698802, -0.60377806],\n",
              "        [ 0.1168326 , -0.14123395,  0.07756741,  0.17894652,  0.56903344,\n",
              "          0.22919925, -0.24092822, -0.62112635,  0.26126772, -0.3639189 ],\n",
              "        [ 0.253754  , -0.09223272,  0.14651029,  0.14292374, -0.16879494,\n",
              "          0.39568764,  0.5171537 , -0.18989472, -0.0329772 ,  0.31203827]],\n",
              "       dtype=float32),\n",
              " array([0., 0., 0., 0., 0., 0., 0., 0., 0., 0.], dtype=float32),\n",
              " array([[ 0.08707586],\n",
              "        [ 0.00995331],\n",
              "        [ 0.21167329],\n",
              "        [-0.08501547],\n",
              "        [ 0.14554499],\n",
              "        [ 0.33473715],\n",
              "        [ 0.01431247],\n",
              "        [ 0.30266705],\n",
              "        [ 0.15743178],\n",
              "        [ 0.25375226]], dtype=float32),\n",
              " array([0.], dtype=float32)]"
            ]
          },
          "metadata": {},
          "execution_count": 16
        }
      ]
    },
    {
      "cell_type": "code",
      "source": [
        "model.compile(loss='binary_crossentropy',optimizer='adam',metrics=['accuracy'])"
      ],
      "metadata": {
        "id": "bjAyhD8mulGG"
      },
      "execution_count": null,
      "outputs": []
    },
    {
      "cell_type": "code",
      "source": [
        "history = model.fit(X,y,epochs=100,validation_split=0.2)"
      ],
      "metadata": {
        "colab": {
          "base_uri": "https://localhost:8080/"
        },
        "id": "H1wa0jCaun8z",
        "outputId": "420fbfbf-cc4b-4ceb-8619-ff11a13b90ce"
      },
      "execution_count": null,
      "outputs": [
        {
          "output_type": "stream",
          "name": "stdout",
          "text": [
            "Epoch 1/100\n",
            "\u001b[1m3/3\u001b[0m \u001b[32m━━━━━━━━━━━━━━━━━━━━\u001b[0m\u001b[37m\u001b[0m \u001b[1m2s\u001b[0m 127ms/step - accuracy: 0.4875 - loss: 0.7012 - val_accuracy: 0.5000 - val_loss: 0.6944\n",
            "Epoch 2/100\n",
            "\u001b[1m3/3\u001b[0m \u001b[32m━━━━━━━━━━━━━━━━━━━━\u001b[0m\u001b[37m\u001b[0m \u001b[1m0s\u001b[0m 18ms/step - accuracy: 0.4993 - loss: 0.6969 - val_accuracy: 0.5000 - val_loss: 0.6903\n",
            "Epoch 3/100\n",
            "\u001b[1m3/3\u001b[0m \u001b[32m━━━━━━━━━━━━━━━━━━━━\u001b[0m\u001b[37m\u001b[0m \u001b[1m0s\u001b[0m 18ms/step - accuracy: 0.4914 - loss: 0.6927 - val_accuracy: 0.5000 - val_loss: 0.6861\n",
            "Epoch 4/100\n",
            "\u001b[1m3/3\u001b[0m \u001b[32m━━━━━━━━━━━━━━━━━━━━\u001b[0m\u001b[37m\u001b[0m \u001b[1m0s\u001b[0m 19ms/step - accuracy: 0.5422 - loss: 0.6810 - val_accuracy: 0.5000 - val_loss: 0.6819\n",
            "Epoch 5/100\n",
            "\u001b[1m3/3\u001b[0m \u001b[32m━━━━━━━━━━━━━━━━━━━━\u001b[0m\u001b[37m\u001b[0m \u001b[1m0s\u001b[0m 17ms/step - accuracy: 0.5110 - loss: 0.6807 - val_accuracy: 0.5000 - val_loss: 0.6776\n",
            "Epoch 6/100\n",
            "\u001b[1m3/3\u001b[0m \u001b[32m━━━━━━━━━━━━━━━━━━━━\u001b[0m\u001b[37m\u001b[0m \u001b[1m0s\u001b[0m 19ms/step - accuracy: 0.5344 - loss: 0.6722 - val_accuracy: 0.5000 - val_loss: 0.6734\n",
            "Epoch 7/100\n",
            "\u001b[1m3/3\u001b[0m \u001b[32m━━━━━━━━━━━━━━━━━━━━\u001b[0m\u001b[37m\u001b[0m \u001b[1m0s\u001b[0m 17ms/step - accuracy: 0.5149 - loss: 0.6715 - val_accuracy: 0.5000 - val_loss: 0.6689\n",
            "Epoch 8/100\n",
            "\u001b[1m3/3\u001b[0m \u001b[32m━━━━━━━━━━━━━━━━━━━━\u001b[0m\u001b[37m\u001b[0m \u001b[1m0s\u001b[0m 17ms/step - accuracy: 0.5188 - loss: 0.6634 - val_accuracy: 0.5000 - val_loss: 0.6642\n",
            "Epoch 9/100\n",
            "\u001b[1m3/3\u001b[0m \u001b[32m━━━━━━━━━━━━━━━━━━━━\u001b[0m\u001b[37m\u001b[0m \u001b[1m0s\u001b[0m 17ms/step - accuracy: 0.5266 - loss: 0.6605 - val_accuracy: 0.5000 - val_loss: 0.6597\n",
            "Epoch 10/100\n",
            "\u001b[1m3/3\u001b[0m \u001b[32m━━━━━━━━━━━━━━━━━━━━\u001b[0m\u001b[37m\u001b[0m \u001b[1m0s\u001b[0m 18ms/step - accuracy: 0.5188 - loss: 0.6600 - val_accuracy: 0.5000 - val_loss: 0.6551\n",
            "Epoch 11/100\n",
            "\u001b[1m3/3\u001b[0m \u001b[32m━━━━━━━━━━━━━━━━━━━━\u001b[0m\u001b[37m\u001b[0m \u001b[1m0s\u001b[0m 20ms/step - accuracy: 0.5032 - loss: 0.6564 - val_accuracy: 0.5000 - val_loss: 0.6503\n",
            "Epoch 12/100\n",
            "\u001b[1m3/3\u001b[0m \u001b[32m━━━━━━━━━━━━━━━━━━━━\u001b[0m\u001b[37m\u001b[0m \u001b[1m0s\u001b[0m 21ms/step - accuracy: 0.5227 - loss: 0.6446 - val_accuracy: 0.5000 - val_loss: 0.6453\n",
            "Epoch 13/100\n",
            "\u001b[1m3/3\u001b[0m \u001b[32m━━━━━━━━━━━━━━━━━━━━\u001b[0m\u001b[37m\u001b[0m \u001b[1m0s\u001b[0m 17ms/step - accuracy: 0.4954 - loss: 0.6470 - val_accuracy: 0.5000 - val_loss: 0.6404\n",
            "Epoch 14/100\n",
            "\u001b[1m3/3\u001b[0m \u001b[32m━━━━━━━━━━━━━━━━━━━━\u001b[0m\u001b[37m\u001b[0m \u001b[1m0s\u001b[0m 18ms/step - accuracy: 0.4993 - loss: 0.6477 - val_accuracy: 0.5000 - val_loss: 0.6353\n",
            "Epoch 15/100\n",
            "\u001b[1m3/3\u001b[0m \u001b[32m━━━━━━━━━━━━━━━━━━━━\u001b[0m\u001b[37m\u001b[0m \u001b[1m0s\u001b[0m 17ms/step - accuracy: 0.4914 - loss: 0.6389 - val_accuracy: 0.5000 - val_loss: 0.6298\n",
            "Epoch 16/100\n",
            "\u001b[1m3/3\u001b[0m \u001b[32m━━━━━━━━━━━━━━━━━━━━\u001b[0m\u001b[37m\u001b[0m \u001b[1m0s\u001b[0m 19ms/step - accuracy: 0.5266 - loss: 0.6251 - val_accuracy: 0.5000 - val_loss: 0.6241\n",
            "Epoch 17/100\n",
            "\u001b[1m3/3\u001b[0m \u001b[32m━━━━━━━━━━━━━━━━━━━━\u001b[0m\u001b[37m\u001b[0m \u001b[1m0s\u001b[0m 22ms/step - accuracy: 0.5032 - loss: 0.6281 - val_accuracy: 0.5000 - val_loss: 0.6182\n",
            "Epoch 18/100\n",
            "\u001b[1m3/3\u001b[0m \u001b[32m━━━━━━━━━━━━━━━━━━━━\u001b[0m\u001b[37m\u001b[0m \u001b[1m0s\u001b[0m 17ms/step - accuracy: 0.4993 - loss: 0.6315 - val_accuracy: 0.5000 - val_loss: 0.6122\n",
            "Epoch 19/100\n",
            "\u001b[1m3/3\u001b[0m \u001b[32m━━━━━━━━━━━━━━━━━━━━\u001b[0m\u001b[37m\u001b[0m \u001b[1m0s\u001b[0m 17ms/step - accuracy: 0.5266 - loss: 0.6115 - val_accuracy: 0.5000 - val_loss: 0.6060\n",
            "Epoch 20/100\n",
            "\u001b[1m3/3\u001b[0m \u001b[32m━━━━━━━━━━━━━━━━━━━━\u001b[0m\u001b[37m\u001b[0m \u001b[1m0s\u001b[0m 17ms/step - accuracy: 0.5383 - loss: 0.6074 - val_accuracy: 0.5000 - val_loss: 0.5999\n",
            "Epoch 21/100\n",
            "\u001b[1m3/3\u001b[0m \u001b[32m━━━━━━━━━━━━━━━━━━━━\u001b[0m\u001b[37m\u001b[0m \u001b[1m0s\u001b[0m 16ms/step - accuracy: 0.4758 - loss: 0.6113 - val_accuracy: 0.5000 - val_loss: 0.5934\n",
            "Epoch 22/100\n",
            "\u001b[1m3/3\u001b[0m \u001b[32m━━━━━━━━━━━━━━━━━━━━\u001b[0m\u001b[37m\u001b[0m \u001b[1m0s\u001b[0m 18ms/step - accuracy: 0.4954 - loss: 0.6022 - val_accuracy: 0.5000 - val_loss: 0.5867\n",
            "Epoch 23/100\n",
            "\u001b[1m3/3\u001b[0m \u001b[32m━━━━━━━━━━━━━━━━━━━━\u001b[0m\u001b[37m\u001b[0m \u001b[1m0s\u001b[0m 19ms/step - accuracy: 0.5188 - loss: 0.5896 - val_accuracy: 0.5000 - val_loss: 0.5799\n",
            "Epoch 24/100\n",
            "\u001b[1m3/3\u001b[0m \u001b[32m━━━━━━━━━━━━━━━━━━━━\u001b[0m\u001b[37m\u001b[0m \u001b[1m0s\u001b[0m 29ms/step - accuracy: 0.5002 - loss: 0.6038 - val_accuracy: 0.5500 - val_loss: 0.5734\n",
            "Epoch 25/100\n",
            "\u001b[1m3/3\u001b[0m \u001b[32m━━━━━━━━━━━━━━━━━━━━\u001b[0m\u001b[37m\u001b[0m \u001b[1m0s\u001b[0m 19ms/step - accuracy: 0.5778 - loss: 0.5758 - val_accuracy: 0.5500 - val_loss: 0.5666\n",
            "Epoch 26/100\n",
            "\u001b[1m3/3\u001b[0m \u001b[32m━━━━━━━━━━━━━━━━━━━━\u001b[0m\u001b[37m\u001b[0m \u001b[1m0s\u001b[0m 18ms/step - accuracy: 0.6124 - loss: 0.5710 - val_accuracy: 0.6000 - val_loss: 0.5599\n",
            "Epoch 27/100\n",
            "\u001b[1m3/3\u001b[0m \u001b[32m━━━━━━━━━━━━━━━━━━━━\u001b[0m\u001b[37m\u001b[0m \u001b[1m0s\u001b[0m 19ms/step - accuracy: 0.6133 - loss: 0.5867 - val_accuracy: 0.6000 - val_loss: 0.5535\n",
            "Epoch 28/100\n",
            "\u001b[1m3/3\u001b[0m \u001b[32m━━━━━━━━━━━━━━━━━━━━\u001b[0m\u001b[37m\u001b[0m \u001b[1m0s\u001b[0m 17ms/step - accuracy: 0.6626 - loss: 0.5582 - val_accuracy: 0.6500 - val_loss: 0.5471\n",
            "Epoch 29/100\n",
            "\u001b[1m3/3\u001b[0m \u001b[32m━━━━━━━━━━━━━━━━━━━━\u001b[0m\u001b[37m\u001b[0m \u001b[1m0s\u001b[0m 17ms/step - accuracy: 0.7036 - loss: 0.5624 - val_accuracy: 0.6500 - val_loss: 0.5411\n",
            "Epoch 30/100\n",
            "\u001b[1m3/3\u001b[0m \u001b[32m━━━━━━━━━━━━━━━━━━━━\u001b[0m\u001b[37m\u001b[0m \u001b[1m0s\u001b[0m 18ms/step - accuracy: 0.7758 - loss: 0.5542 - val_accuracy: 0.7000 - val_loss: 0.5352\n",
            "Epoch 31/100\n",
            "\u001b[1m3/3\u001b[0m \u001b[32m━━━━━━━━━━━━━━━━━━━━\u001b[0m\u001b[37m\u001b[0m \u001b[1m0s\u001b[0m 17ms/step - accuracy: 0.7596 - loss: 0.5461 - val_accuracy: 0.8000 - val_loss: 0.5299\n",
            "Epoch 32/100\n",
            "\u001b[1m3/3\u001b[0m \u001b[32m━━━━━━━━━━━━━━━━━━━━\u001b[0m\u001b[37m\u001b[0m \u001b[1m0s\u001b[0m 18ms/step - accuracy: 0.7752 - loss: 0.5414 - val_accuracy: 0.8000 - val_loss: 0.5250\n",
            "Epoch 33/100\n",
            "\u001b[1m3/3\u001b[0m \u001b[32m━━━━━━━━━━━━━━━━━━━━\u001b[0m\u001b[37m\u001b[0m \u001b[1m0s\u001b[0m 17ms/step - accuracy: 0.7987 - loss: 0.5454 - val_accuracy: 0.8500 - val_loss: 0.5200\n",
            "Epoch 34/100\n",
            "\u001b[1m3/3\u001b[0m \u001b[32m━━━━━━━━━━━━━━━━━━━━\u001b[0m\u001b[37m\u001b[0m \u001b[1m0s\u001b[0m 18ms/step - accuracy: 0.8167 - loss: 0.5425 - val_accuracy: 0.8500 - val_loss: 0.5150\n",
            "Epoch 35/100\n",
            "\u001b[1m3/3\u001b[0m \u001b[32m━━━━━━━━━━━━━━━━━━━━\u001b[0m\u001b[37m\u001b[0m \u001b[1m0s\u001b[0m 18ms/step - accuracy: 0.8113 - loss: 0.5361 - val_accuracy: 0.9000 - val_loss: 0.5102\n",
            "Epoch 36/100\n",
            "\u001b[1m3/3\u001b[0m \u001b[32m━━━━━━━━━━━━━━━━━━━━\u001b[0m\u001b[37m\u001b[0m \u001b[1m0s\u001b[0m 26ms/step - accuracy: 0.8269 - loss: 0.5450 - val_accuracy: 0.9000 - val_loss: 0.5055\n",
            "Epoch 37/100\n",
            "\u001b[1m3/3\u001b[0m \u001b[32m━━━━━━━━━━━━━━━━━━━━\u001b[0m\u001b[37m\u001b[0m \u001b[1m0s\u001b[0m 30ms/step - accuracy: 0.7957 - loss: 0.5488 - val_accuracy: 0.9000 - val_loss: 0.5013\n",
            "Epoch 38/100\n",
            "\u001b[1m3/3\u001b[0m \u001b[32m━━━━━━━━━━━━━━━━━━━━\u001b[0m\u001b[37m\u001b[0m \u001b[1m0s\u001b[0m 17ms/step - accuracy: 0.7879 - loss: 0.5324 - val_accuracy: 0.9000 - val_loss: 0.4973\n",
            "Epoch 39/100\n",
            "\u001b[1m3/3\u001b[0m \u001b[32m━━━━━━━━━━━━━━━━━━━━\u001b[0m\u001b[37m\u001b[0m \u001b[1m0s\u001b[0m 18ms/step - accuracy: 0.7605 - loss: 0.5550 - val_accuracy: 0.9000 - val_loss: 0.4938\n",
            "Epoch 40/100\n",
            "\u001b[1m3/3\u001b[0m \u001b[32m━━━━━━━━━━━━━━━━━━━━\u001b[0m\u001b[37m\u001b[0m \u001b[1m0s\u001b[0m 17ms/step - accuracy: 0.8050 - loss: 0.5261 - val_accuracy: 0.9000 - val_loss: 0.4900\n",
            "Epoch 41/100\n",
            "\u001b[1m3/3\u001b[0m \u001b[32m━━━━━━━━━━━━━━━━━━━━\u001b[0m\u001b[37m\u001b[0m \u001b[1m0s\u001b[0m 16ms/step - accuracy: 0.8011 - loss: 0.5210 - val_accuracy: 0.9000 - val_loss: 0.4864\n",
            "Epoch 42/100\n",
            "\u001b[1m3/3\u001b[0m \u001b[32m━━━━━━━━━━━━━━━━━━━━\u001b[0m\u001b[37m\u001b[0m \u001b[1m0s\u001b[0m 16ms/step - accuracy: 0.7776 - loss: 0.5329 - val_accuracy: 0.9000 - val_loss: 0.4829\n",
            "Epoch 43/100\n",
            "\u001b[1m3/3\u001b[0m \u001b[32m━━━━━━━━━━━━━━━━━━━━\u001b[0m\u001b[37m\u001b[0m \u001b[1m0s\u001b[0m 16ms/step - accuracy: 0.7815 - loss: 0.5298 - val_accuracy: 0.9000 - val_loss: 0.4795\n",
            "Epoch 44/100\n",
            "\u001b[1m3/3\u001b[0m \u001b[32m━━━━━━━━━━━━━━━━━━━━\u001b[0m\u001b[37m\u001b[0m \u001b[1m0s\u001b[0m 20ms/step - accuracy: 0.8206 - loss: 0.4967 - val_accuracy: 0.9000 - val_loss: 0.4764\n",
            "Epoch 45/100\n",
            "\u001b[1m3/3\u001b[0m \u001b[32m━━━━━━━━━━━━━━━━━━━━\u001b[0m\u001b[37m\u001b[0m \u001b[1m0s\u001b[0m 22ms/step - accuracy: 0.7894 - loss: 0.5041 - val_accuracy: 0.8500 - val_loss: 0.4740\n",
            "Epoch 46/100\n",
            "\u001b[1m3/3\u001b[0m \u001b[32m━━━━━━━━━━━━━━━━━━━━\u001b[0m\u001b[37m\u001b[0m \u001b[1m0s\u001b[0m 17ms/step - accuracy: 0.8152 - loss: 0.5131 - val_accuracy: 0.8500 - val_loss: 0.4716\n",
            "Epoch 47/100\n",
            "\u001b[1m3/3\u001b[0m \u001b[32m━━━━━━━━━━━━━━━━━━━━\u001b[0m\u001b[37m\u001b[0m \u001b[1m0s\u001b[0m 17ms/step - accuracy: 0.8230 - loss: 0.4934 - val_accuracy: 0.8500 - val_loss: 0.4688\n",
            "Epoch 48/100\n",
            "\u001b[1m3/3\u001b[0m \u001b[32m━━━━━━━━━━━━━━━━━━━━\u001b[0m\u001b[37m\u001b[0m \u001b[1m0s\u001b[0m 16ms/step - accuracy: 0.8333 - loss: 0.4889 - val_accuracy: 0.8500 - val_loss: 0.4661\n",
            "Epoch 49/100\n",
            "\u001b[1m3/3\u001b[0m \u001b[32m━━━━━━━━━━━━━━━━━━━━\u001b[0m\u001b[37m\u001b[0m \u001b[1m0s\u001b[0m 16ms/step - accuracy: 0.8176 - loss: 0.5158 - val_accuracy: 0.8500 - val_loss: 0.4636\n",
            "Epoch 50/100\n",
            "\u001b[1m3/3\u001b[0m \u001b[32m━━━━━━━━━━━━━━━━━━━━\u001b[0m\u001b[37m\u001b[0m \u001b[1m0s\u001b[0m 18ms/step - accuracy: 0.8059 - loss: 0.5198 - val_accuracy: 0.8500 - val_loss: 0.4613\n",
            "Epoch 51/100\n",
            "\u001b[1m3/3\u001b[0m \u001b[32m━━━━━━━━━━━━━━━━━━━━\u001b[0m\u001b[37m\u001b[0m \u001b[1m0s\u001b[0m 16ms/step - accuracy: 0.8255 - loss: 0.5258 - val_accuracy: 0.8500 - val_loss: 0.4587\n",
            "Epoch 52/100\n",
            "\u001b[1m3/3\u001b[0m \u001b[32m━━━━━━━━━━━━━━━━━━━━\u001b[0m\u001b[37m\u001b[0m \u001b[1m0s\u001b[0m 18ms/step - accuracy: 0.8137 - loss: 0.5115 - val_accuracy: 0.8500 - val_loss: 0.4557\n",
            "Epoch 53/100\n",
            "\u001b[1m3/3\u001b[0m \u001b[32m━━━━━━━━━━━━━━━━━━━━\u001b[0m\u001b[37m\u001b[0m \u001b[1m0s\u001b[0m 18ms/step - accuracy: 0.7762 - loss: 0.5248 - val_accuracy: 0.8500 - val_loss: 0.4526\n",
            "Epoch 54/100\n",
            "\u001b[1m3/3\u001b[0m \u001b[32m━━━━━━━━━━━━━━━━━━━━\u001b[0m\u001b[37m\u001b[0m \u001b[1m0s\u001b[0m 17ms/step - accuracy: 0.8269 - loss: 0.4786 - val_accuracy: 0.8500 - val_loss: 0.4492\n",
            "Epoch 55/100\n",
            "\u001b[1m3/3\u001b[0m \u001b[32m━━━━━━━━━━━━━━━━━━━━\u001b[0m\u001b[37m\u001b[0m \u001b[1m0s\u001b[0m 17ms/step - accuracy: 0.8050 - loss: 0.4631 - val_accuracy: 0.8500 - val_loss: 0.4459\n",
            "Epoch 56/100\n",
            "\u001b[1m3/3\u001b[0m \u001b[32m━━━━━━━━━━━━━━━━━━━━\u001b[0m\u001b[37m\u001b[0m \u001b[1m0s\u001b[0m 16ms/step - accuracy: 0.8089 - loss: 0.4959 - val_accuracy: 0.8500 - val_loss: 0.4429\n",
            "Epoch 57/100\n",
            "\u001b[1m3/3\u001b[0m \u001b[32m━━━━━━━━━━━━━━━━━━━━\u001b[0m\u001b[37m\u001b[0m \u001b[1m0s\u001b[0m 21ms/step - accuracy: 0.8113 - loss: 0.4896 - val_accuracy: 0.8500 - val_loss: 0.4399\n",
            "Epoch 58/100\n",
            "\u001b[1m3/3\u001b[0m \u001b[32m━━━━━━━━━━━━━━━━━━━━\u001b[0m\u001b[37m\u001b[0m \u001b[1m0s\u001b[0m 22ms/step - accuracy: 0.7840 - loss: 0.5044 - val_accuracy: 0.8500 - val_loss: 0.4371\n",
            "Epoch 59/100\n",
            "\u001b[1m3/3\u001b[0m \u001b[32m━━━━━━━━━━━━━━━━━━━━\u001b[0m\u001b[37m\u001b[0m \u001b[1m0s\u001b[0m 32ms/step - accuracy: 0.8269 - loss: 0.4942 - val_accuracy: 0.8500 - val_loss: 0.4341\n",
            "Epoch 60/100\n",
            "\u001b[1m3/3\u001b[0m \u001b[32m━━━━━━━━━━━━━━━━━━━━\u001b[0m\u001b[37m\u001b[0m \u001b[1m0s\u001b[0m 17ms/step - accuracy: 0.7801 - loss: 0.5187 - val_accuracy: 0.8500 - val_loss: 0.4310\n",
            "Epoch 61/100\n",
            "\u001b[1m3/3\u001b[0m \u001b[32m━━━━━━━━━━━━━━━━━━━━\u001b[0m\u001b[37m\u001b[0m \u001b[1m0s\u001b[0m 19ms/step - accuracy: 0.8567 - loss: 0.4637 - val_accuracy: 0.8500 - val_loss: 0.4278\n",
            "Epoch 62/100\n",
            "\u001b[1m3/3\u001b[0m \u001b[32m━━━━━━━━━━━━━━━━━━━━\u001b[0m\u001b[37m\u001b[0m \u001b[1m0s\u001b[0m 17ms/step - accuracy: 0.8255 - loss: 0.4858 - val_accuracy: 0.8500 - val_loss: 0.4249\n",
            "Epoch 63/100\n",
            "\u001b[1m3/3\u001b[0m \u001b[32m━━━━━━━━━━━━━━━━━━━━\u001b[0m\u001b[37m\u001b[0m \u001b[1m0s\u001b[0m 17ms/step - accuracy: 0.8059 - loss: 0.4741 - val_accuracy: 0.8500 - val_loss: 0.4220\n",
            "Epoch 64/100\n",
            "\u001b[1m3/3\u001b[0m \u001b[32m━━━━━━━━━━━━━━━━━━━━\u001b[0m\u001b[37m\u001b[0m \u001b[1m0s\u001b[0m 16ms/step - accuracy: 0.8098 - loss: 0.4725 - val_accuracy: 0.8500 - val_loss: 0.4190\n",
            "Epoch 65/100\n",
            "\u001b[1m3/3\u001b[0m \u001b[32m━━━━━━━━━━━━━━━━━━━━\u001b[0m\u001b[37m\u001b[0m \u001b[1m0s\u001b[0m 31ms/step - accuracy: 0.8059 - loss: 0.4748 - val_accuracy: 0.9000 - val_loss: 0.4162\n",
            "Epoch 66/100\n",
            "\u001b[1m3/3\u001b[0m \u001b[32m━━━━━━━━━━━━━━━━━━━━\u001b[0m\u001b[37m\u001b[0m \u001b[1m0s\u001b[0m 22ms/step - accuracy: 0.8357 - loss: 0.4880 - val_accuracy: 0.9000 - val_loss: 0.4133\n",
            "Epoch 67/100\n",
            "\u001b[1m3/3\u001b[0m \u001b[32m━━━━━━━━━━━━━━━━━━━━\u001b[0m\u001b[37m\u001b[0m \u001b[1m0s\u001b[0m 27ms/step - accuracy: 0.8162 - loss: 0.4842 - val_accuracy: 0.9000 - val_loss: 0.4103\n",
            "Epoch 68/100\n",
            "\u001b[1m3/3\u001b[0m \u001b[32m━━━━━━━━━━━━━━━━━━━━\u001b[0m\u001b[37m\u001b[0m \u001b[1m0s\u001b[0m 40ms/step - accuracy: 0.8396 - loss: 0.4683 - val_accuracy: 0.9000 - val_loss: 0.4071\n",
            "Epoch 69/100\n",
            "\u001b[1m3/3\u001b[0m \u001b[32m━━━━━━━━━━━━━━━━━━━━\u001b[0m\u001b[37m\u001b[0m \u001b[1m0s\u001b[0m 22ms/step - accuracy: 0.8279 - loss: 0.4631 - val_accuracy: 0.9000 - val_loss: 0.4038\n",
            "Epoch 70/100\n",
            "\u001b[1m3/3\u001b[0m \u001b[32m━━━━━━━━━━━━━━━━━━━━\u001b[0m\u001b[37m\u001b[0m \u001b[1m0s\u001b[0m 24ms/step - accuracy: 0.8576 - loss: 0.4552 - val_accuracy: 0.9000 - val_loss: 0.4003\n",
            "Epoch 71/100\n",
            "\u001b[1m3/3\u001b[0m \u001b[32m━━━━━━━━━━━━━━━━━━━━\u001b[0m\u001b[37m\u001b[0m \u001b[1m0s\u001b[0m 22ms/step - accuracy: 0.8381 - loss: 0.4630 - val_accuracy: 0.9000 - val_loss: 0.3971\n",
            "Epoch 72/100\n",
            "\u001b[1m3/3\u001b[0m \u001b[32m━━━━━━━━━━━━━━━━━━━━\u001b[0m\u001b[37m\u001b[0m \u001b[1m0s\u001b[0m 25ms/step - accuracy: 0.8264 - loss: 0.4657 - val_accuracy: 0.9000 - val_loss: 0.3943\n",
            "Epoch 73/100\n",
            "\u001b[1m3/3\u001b[0m \u001b[32m━━━━━━━━━━━━━━━━━━━━\u001b[0m\u001b[37m\u001b[0m \u001b[1m0s\u001b[0m 21ms/step - accuracy: 0.8498 - loss: 0.4376 - val_accuracy: 0.9000 - val_loss: 0.3909\n",
            "Epoch 74/100\n",
            "\u001b[1m3/3\u001b[0m \u001b[32m━━━━━━━━━━━━━━━━━━━━\u001b[0m\u001b[37m\u001b[0m \u001b[1m0s\u001b[0m 18ms/step - accuracy: 0.8616 - loss: 0.4553 - val_accuracy: 0.9000 - val_loss: 0.3881\n",
            "Epoch 75/100\n",
            "\u001b[1m3/3\u001b[0m \u001b[32m━━━━━━━━━━━━━━━━━━━━\u001b[0m\u001b[37m\u001b[0m \u001b[1m0s\u001b[0m 18ms/step - accuracy: 0.8772 - loss: 0.4346 - val_accuracy: 0.9000 - val_loss: 0.3850\n",
            "Epoch 76/100\n",
            "\u001b[1m3/3\u001b[0m \u001b[32m━━━━━━━━━━━━━━━━━━━━\u001b[0m\u001b[37m\u001b[0m \u001b[1m0s\u001b[0m 16ms/step - accuracy: 0.8459 - loss: 0.4599 - val_accuracy: 0.9000 - val_loss: 0.3818\n",
            "Epoch 77/100\n",
            "\u001b[1m3/3\u001b[0m \u001b[32m━━━━━━━━━━━━━━━━━━━━\u001b[0m\u001b[37m\u001b[0m \u001b[1m0s\u001b[0m 29ms/step - accuracy: 0.8342 - loss: 0.4553 - val_accuracy: 0.9000 - val_loss: 0.3778\n",
            "Epoch 78/100\n",
            "\u001b[1m3/3\u001b[0m \u001b[32m━━━━━━━━━━━━━━━━━━━━\u001b[0m\u001b[37m\u001b[0m \u001b[1m0s\u001b[0m 24ms/step - accuracy: 0.8576 - loss: 0.4260 - val_accuracy: 0.9000 - val_loss: 0.3734\n",
            "Epoch 79/100\n",
            "\u001b[1m3/3\u001b[0m \u001b[32m━━━━━━━━━━━━━━━━━━━━\u001b[0m\u001b[37m\u001b[0m \u001b[1m0s\u001b[0m 29ms/step - accuracy: 0.8264 - loss: 0.4824 - val_accuracy: 0.9000 - val_loss: 0.3698\n",
            "Epoch 80/100\n",
            "\u001b[1m3/3\u001b[0m \u001b[32m━━━━━━━━━━━━━━━━━━━━\u001b[0m\u001b[37m\u001b[0m \u001b[1m0s\u001b[0m 31ms/step - accuracy: 0.8303 - loss: 0.4416 - val_accuracy: 0.9000 - val_loss: 0.3654\n",
            "Epoch 81/100\n",
            "\u001b[1m3/3\u001b[0m \u001b[32m━━━━━━━━━━━━━━━━━━━━\u001b[0m\u001b[37m\u001b[0m \u001b[1m0s\u001b[0m 25ms/step - accuracy: 0.8498 - loss: 0.4431 - val_accuracy: 0.9000 - val_loss: 0.3608\n",
            "Epoch 82/100\n",
            "\u001b[1m3/3\u001b[0m \u001b[32m━━━━━━━━━━━━━━━━━━━━\u001b[0m\u001b[37m\u001b[0m \u001b[1m0s\u001b[0m 30ms/step - accuracy: 0.8459 - loss: 0.4380 - val_accuracy: 0.9500 - val_loss: 0.3562\n",
            "Epoch 83/100\n",
            "\u001b[1m3/3\u001b[0m \u001b[32m━━━━━━━━━━━━━━━━━━━━\u001b[0m\u001b[37m\u001b[0m \u001b[1m0s\u001b[0m 25ms/step - accuracy: 0.8420 - loss: 0.4522 - val_accuracy: 0.9500 - val_loss: 0.3515\n",
            "Epoch 84/100\n",
            "\u001b[1m3/3\u001b[0m \u001b[32m━━━━━━━━━━━━━━━━━━━━\u001b[0m\u001b[37m\u001b[0m \u001b[1m0s\u001b[0m 24ms/step - accuracy: 0.8108 - loss: 0.4617 - val_accuracy: 0.9500 - val_loss: 0.3467\n",
            "Epoch 85/100\n",
            "\u001b[1m3/3\u001b[0m \u001b[32m━━━━━━━━━━━━━━━━━━━━\u001b[0m\u001b[37m\u001b[0m \u001b[1m0s\u001b[0m 41ms/step - accuracy: 0.8381 - loss: 0.4359 - val_accuracy: 0.9500 - val_loss: 0.3414\n",
            "Epoch 86/100\n",
            "\u001b[1m3/3\u001b[0m \u001b[32m━━━━━━━━━━━━━━━━━━━━\u001b[0m\u001b[37m\u001b[0m \u001b[1m0s\u001b[0m 22ms/step - accuracy: 0.8420 - loss: 0.4274 - val_accuracy: 0.9500 - val_loss: 0.3355\n",
            "Epoch 87/100\n",
            "\u001b[1m3/3\u001b[0m \u001b[32m━━━━━━━━━━━━━━━━━━━━\u001b[0m\u001b[37m\u001b[0m \u001b[1m0s\u001b[0m 23ms/step - accuracy: 0.8537 - loss: 0.3943 - val_accuracy: 0.9500 - val_loss: 0.3294\n",
            "Epoch 88/100\n",
            "\u001b[1m3/3\u001b[0m \u001b[32m━━━━━━━━━━━━━━━━━━━━\u001b[0m\u001b[37m\u001b[0m \u001b[1m0s\u001b[0m 28ms/step - accuracy: 0.8498 - loss: 0.4055 - val_accuracy: 0.9500 - val_loss: 0.3240\n",
            "Epoch 89/100\n",
            "\u001b[1m3/3\u001b[0m \u001b[32m━━━━━━━━━━━━━━━━━━━━\u001b[0m\u001b[37m\u001b[0m \u001b[1m0s\u001b[0m 34ms/step - accuracy: 0.8576 - loss: 0.4176 - val_accuracy: 0.9500 - val_loss: 0.3186\n",
            "Epoch 90/100\n",
            "\u001b[1m3/3\u001b[0m \u001b[32m━━━━━━━━━━━━━━━━━━━━\u001b[0m\u001b[37m\u001b[0m \u001b[1m0s\u001b[0m 25ms/step - accuracy: 0.8225 - loss: 0.4353 - val_accuracy: 0.9500 - val_loss: 0.3131\n",
            "Epoch 91/100\n",
            "\u001b[1m3/3\u001b[0m \u001b[32m━━━━━━━━━━━━━━━━━━━━\u001b[0m\u001b[37m\u001b[0m \u001b[1m0s\u001b[0m 28ms/step - accuracy: 0.8733 - loss: 0.3494 - val_accuracy: 0.9500 - val_loss: 0.3070\n",
            "Epoch 92/100\n",
            "\u001b[1m3/3\u001b[0m \u001b[32m━━━━━━━━━━━━━━━━━━━━\u001b[0m\u001b[37m\u001b[0m \u001b[1m0s\u001b[0m 24ms/step - accuracy: 0.8537 - loss: 0.3908 - val_accuracy: 0.9500 - val_loss: 0.3020\n",
            "Epoch 93/100\n",
            "\u001b[1m3/3\u001b[0m \u001b[32m━━━━━━━━━━━━━━━━━━━━\u001b[0m\u001b[37m\u001b[0m \u001b[1m0s\u001b[0m 43ms/step - accuracy: 0.8718 - loss: 0.3853 - val_accuracy: 0.9500 - val_loss: 0.2962\n",
            "Epoch 94/100\n",
            "\u001b[1m3/3\u001b[0m \u001b[32m━━━━━━━━━━━━━━━━━━━━\u001b[0m\u001b[37m\u001b[0m \u001b[1m0s\u001b[0m 24ms/step - accuracy: 0.8757 - loss: 0.3899 - val_accuracy: 0.9500 - val_loss: 0.2906\n",
            "Epoch 95/100\n",
            "\u001b[1m3/3\u001b[0m \u001b[32m━━━━━━━━━━━━━━━━━━━━\u001b[0m\u001b[37m\u001b[0m \u001b[1m0s\u001b[0m 27ms/step - accuracy: 0.8523 - loss: 0.3913 - val_accuracy: 0.9500 - val_loss: 0.2851\n",
            "Epoch 96/100\n",
            "\u001b[1m3/3\u001b[0m \u001b[32m━━━━━━━━━━━━━━━━━━━━\u001b[0m\u001b[37m\u001b[0m \u001b[1m0s\u001b[0m 27ms/step - accuracy: 0.8562 - loss: 0.3946 - val_accuracy: 0.9500 - val_loss: 0.2794\n",
            "Epoch 97/100\n",
            "\u001b[1m3/3\u001b[0m \u001b[32m━━━━━━━━━━━━━━━━━━━━\u001b[0m\u001b[37m\u001b[0m \u001b[1m0s\u001b[0m 25ms/step - accuracy: 0.8640 - loss: 0.3758 - val_accuracy: 0.9500 - val_loss: 0.2738\n",
            "Epoch 98/100\n",
            "\u001b[1m3/3\u001b[0m \u001b[32m━━━━━━━━━━━━━━━━━━━━\u001b[0m\u001b[37m\u001b[0m \u001b[1m0s\u001b[0m 31ms/step - accuracy: 0.8679 - loss: 0.3553 - val_accuracy: 0.9500 - val_loss: 0.2682\n",
            "Epoch 99/100\n",
            "\u001b[1m3/3\u001b[0m \u001b[32m━━━━━━━━━━━━━━━━━━━━\u001b[0m\u001b[37m\u001b[0m \u001b[1m0s\u001b[0m 27ms/step - accuracy: 0.8718 - loss: 0.3303 - val_accuracy: 0.9500 - val_loss: 0.2642\n",
            "Epoch 100/100\n",
            "\u001b[1m3/3\u001b[0m \u001b[32m━━━━━━━━━━━━━━━━━━━━\u001b[0m\u001b[37m\u001b[0m \u001b[1m0s\u001b[0m 24ms/step - accuracy: 0.8796 - loss: 0.3490 - val_accuracy: 0.9000 - val_loss: 0.2609\n"
          ]
        }
      ]
    },
    {
      "cell_type": "code",
      "source": [
        "model.get_weights()"
      ],
      "metadata": {
        "colab": {
          "base_uri": "https://localhost:8080/"
        },
        "id": "8K2E1Z5Oupj_",
        "outputId": "652d88a5-833d-451b-9d4f-70cefb1306af"
      },
      "execution_count": null,
      "outputs": [
        {
          "output_type": "execute_result",
          "data": {
            "text/plain": [
              "[array([[ 0.56791544,  0.25006202,  0.68803495, -0.8564578 , -0.3813674 ,\n",
              "          0.0822289 , -0.5727052 ,  0.6463938 ,  0.56831187, -0.30764562],\n",
              "        [-1.0868558 ,  1.3954824 , -0.25065416,  0.7390724 ,  0.11110304,\n",
              "          0.32973036,  0.834813  , -0.9330112 , -0.51302785,  0.4946449 ]],\n",
              "       dtype=float32),\n",
              " array([ 0.09480589,  0.15785944, -0.07410982, -0.05343163, -0.03758803,\n",
              "        -0.11669408,  0.00103866,  0.11985657,  0.07079732,  0.03578006],\n",
              "       dtype=float32),\n",
              " array([[-0.34708756, -0.06270689,  0.18813834,  0.3956615 , -0.31657264,\n",
              "         -0.2334226 ,  0.05255714,  0.9290229 ,  0.1297817 ,  0.10937208],\n",
              "        [ 0.27938288, -0.27799433, -0.36053258, -0.6266634 ,  0.17669272,\n",
              "          0.45696095,  0.50947833, -0.07916854, -0.23589793,  0.29842478],\n",
              "        [-0.36327577,  0.07690185, -0.04723136,  0.6733532 , -0.19785671,\n",
              "          0.05927265,  0.16886537, -0.03056849, -0.32373777, -0.05026384],\n",
              "        [-0.322487  ,  0.5584347 ,  0.3249513 , -0.13770638, -0.21431577,\n",
              "          0.1298587 , -0.20803356, -0.33745873, -0.5135503 , -0.41758728],\n",
              "        [-0.08948503,  0.28299883,  0.36569476, -0.27675724,  0.19749017,\n",
              "          0.26575887, -0.15911527, -0.1107462 ,  0.6764312 ,  0.23445885],\n",
              "        [ 0.1414144 , -0.32594132,  0.6202284 ,  0.2258507 ,  0.06968118,\n",
              "         -1.1645286 ,  0.434139  , -0.01799511,  0.13588586, -0.16106978],\n",
              "        [-0.3836816 ,  0.2216782 ,  0.9683556 , -0.05156977,  0.32570648,\n",
              "          0.12929752,  0.18857521,  0.21450385,  0.06727563,  0.42549044],\n",
              "        [ 0.0972744 ,  0.20197585, -0.14421545,  0.5381164 ,  0.2420467 ,\n",
              "         -0.187481  , -0.22645698,  0.3315781 ,  0.8371852 , -0.16247697],\n",
              "        [-0.10203286,  0.27399448, -0.24308524,  0.45692763, -0.19381727,\n",
              "         -0.7464406 ,  0.21406543, -0.13122323,  0.07943684,  0.08254962],\n",
              "        [ 0.33182466,  0.6582755 ,  0.49319768, -0.22259031, -0.5389438 ,\n",
              "         -0.23307021, -0.52169764,  0.03075787,  0.1482303 , -0.2653989 ]],\n",
              "       dtype=float32),\n",
              " array([ 0.17230073,  0.0361732 ,  0.04579573,  0.08007198,  0.00698303,\n",
              "         0.06519638, -0.00426989,  0.14466031,  0.10124784, -0.03995099],\n",
              "       dtype=float32),\n",
              " array([[ 0.69919103, -0.16550851,  0.02606084,  0.1132855 ,  0.15684842,\n",
              "         -0.9465221 , -0.6823499 , -0.29823017,  0.03064171,  0.6579751 ],\n",
              "        [-0.21143706,  0.25790486, -0.30900866, -0.19565447,  0.01751979,\n",
              "         -0.23828599,  0.18587813,  0.29158375,  0.42880017,  0.05129708],\n",
              "        [ 0.83884174,  0.18986961,  0.2521738 , -0.10157939, -0.21255343,\n",
              "          0.09959845,  0.3903229 , -0.4151759 , -0.38766745,  0.06416555],\n",
              "        [ 0.41717672, -0.26571155, -0.4842384 , -0.38927466,  0.5172299 ,\n",
              "          0.33746144, -0.57284266,  0.29424572,  0.04481102,  0.25991443],\n",
              "        [-0.28011337,  0.28864226,  0.36540902,  0.23589288,  0.00779508,\n",
              "          0.10008026,  0.82712185,  0.22495116,  0.15634213,  0.13053727],\n",
              "        [-0.16158782,  0.78801495, -0.26307613, -0.40482122,  0.7114165 ,\n",
              "         -0.09406868, -0.29528025, -0.12206288,  0.7881794 ,  0.25368795],\n",
              "        [ 0.10496848,  0.44677708,  0.41241887, -0.19967504, -0.4538145 ,\n",
              "          0.31378537, -0.21264622,  0.00952286,  0.30462185, -0.2909389 ],\n",
              "        [ 0.06661318, -0.27567232, -0.16025326,  0.284379  ,  0.5261271 ,\n",
              "          0.17301168, -0.38950935, -0.09087948, -0.07080764,  0.14671245],\n",
              "        [-0.2100158 , -0.12538654,  0.1693735 , -0.22789593,  0.27047655,\n",
              "          0.18625551, -0.15928236,  0.8172491 , -0.20748897,  0.32611772],\n",
              "        [ 0.8551046 ,  0.0388056 ,  0.24708135,  0.3426773 ,  0.15318304,\n",
              "          0.39307764,  0.8428751 ,  0.31866172, -0.12877464, -0.41541016]],\n",
              "       dtype=float32),\n",
              " array([ 0.18431367,  0.23619704,  0.01428134, -0.0321796 ,  0.11365467,\n",
              "        -0.12099287,  0.07493003,  0.0379917 ,  0.0649173 ,  0.02724987],\n",
              "       dtype=float32),\n",
              " array([[ 0.20258832,  0.83942086, -0.39120007,  0.4261321 , -0.09366422,\n",
              "          0.24496137,  0.4245955 , -0.02106692,  0.59815365, -0.16490376],\n",
              "        [-0.41903904,  0.48629248,  0.42505795,  0.25986296, -0.06971554,\n",
              "         -0.6030048 , -0.11518627, -0.09435683, -0.3848029 ,  0.09461141],\n",
              "        [ 0.27183643,  0.5662364 , -0.1394227 ,  0.16800182, -0.13941397,\n",
              "          0.00143629, -0.43808013,  0.27006993,  0.12029406,  0.34379447],\n",
              "        [ 0.20073166,  0.01420721, -0.09380211, -0.03924169, -0.35041696,\n",
              "         -0.49366826, -0.3450254 ,  0.36056593, -0.00439993,  0.45911443],\n",
              "        [ 0.23395473, -0.06479007,  0.6149665 ,  0.24250594, -0.14726059,\n",
              "          0.37329042,  0.93050635,  0.18880048, -0.07676969, -0.4566576 ],\n",
              "        [ 0.08869365, -0.3459258 ,  0.49393   , -0.24093947, -0.02053923,\n",
              "         -0.20985946,  0.15673742,  0.3945758 ,  0.23850349,  0.21160032],\n",
              "        [-0.40762615,  0.66791034, -0.7408276 , -0.10583225,  0.24506618,\n",
              "          0.26261184, -0.5945073 ,  0.2607448 , -0.39702788, -0.26052666],\n",
              "        [ 0.08677653, -0.2450157 , -0.03212806,  0.3670904 ,  0.17951372,\n",
              "          0.43225607,  0.1652657 ,  0.45421562,  0.61618876, -0.6429313 ],\n",
              "        [-0.07958093,  0.30580258, -0.08568838,  0.30757523,  0.40339196,\n",
              "          0.08964141, -0.45933867, -0.8015702 , -0.08937577, -0.37901196],\n",
              "        [ 0.4316499 ,  0.00895786,  0.3372441 ,  0.12898509, -0.2200632 ,\n",
              "          0.5209668 ,  0.6767999 , -0.00568896,  0.11103269,  0.30398297]],\n",
              "       dtype=float32),\n",
              " array([ 0.02863405,  0.34857357, -0.01550239,  0.04579014, -0.08935905,\n",
              "        -0.00825498, -0.06151802,  0.02637183, -0.17799327, -0.03928317],\n",
              "       dtype=float32),\n",
              " array([[ 0.28154325],\n",
              "        [-0.44979358],\n",
              "        [ 0.38221842],\n",
              "        [-0.06267588],\n",
              "        [ 0.10122539],\n",
              "        [ 0.50573593],\n",
              "        [ 0.17458715],\n",
              "        [ 0.45134678],\n",
              "        [ 0.2571844 ],\n",
              "        [ 0.22476153]], dtype=float32),\n",
              " array([-0.24523884], dtype=float32)]"
            ]
          },
          "metadata": {},
          "execution_count": 19
        }
      ]
    },
    {
      "cell_type": "code",
      "source": [
        "from mlxtend.plotting import plot_decision_regions\n",
        "plot_decision_regions(X,y.astype('int'), clf=model, legend=2)"
      ],
      "metadata": {
        "colab": {
          "base_uri": "https://localhost:8080/",
          "height": 465
        },
        "id": "h2jKnSGeuuLY",
        "outputId": "ee8c723f-c276-47e7-bfba-c89b1e9c8205"
      },
      "execution_count": null,
      "outputs": [
        {
          "output_type": "stream",
          "name": "stdout",
          "text": [
            "\u001b[1m9600/9600\u001b[0m \u001b[32m━━━━━━━━━━━━━━━━━━━━\u001b[0m\u001b[37m\u001b[0m \u001b[1m16s\u001b[0m 2ms/step\n"
          ]
        },
        {
          "output_type": "execute_result",
          "data": {
            "text/plain": [
              "<Axes: >"
            ]
          },
          "metadata": {},
          "execution_count": 20
        },
        {
          "output_type": "display_data",
          "data": {
            "text/plain": [
              "<Figure size 640x480 with 1 Axes>"
            ],
            "image/png": "[encoded data removed]"
          },
          "metadata": {}
        }
      ]
    },
    {
      "cell_type": "code",
      "source": [
        "(np.random.randn(10,10)*0.01).min()"
      ],
      "metadata": {
        "colab": {
          "base_uri": "https://localhost:8080/"
        },
        "id": "6cQtO9mpuxLI",
        "outputId": "6c6a200f-08a2-4762-b348-8034ec2d7c46"
      },
      "execution_count": null,
      "outputs": [
        {
          "output_type": "execute_result",
          "data": {
            "text/plain": [
              "-0.0190650321674798"
            ]
          },
          "metadata": {},
          "execution_count": 21
        }
      ]
    },
    {
      "cell_type": "code",
      "source": [
        "(np.random.randn(10,10)*0.01).max()"
      ],
      "metadata": {
        "colab": {
          "base_uri": "https://localhost:8080/"
        },
        "id": "diiaUiL92T7H",
        "outputId": "60a71ccd-6b8f-4b87-b4d7-20f1431a962f"
      },
      "execution_count": null,
      "outputs": [
        {
          "output_type": "execute_result",
          "data": {
            "text/plain": [
              "0.024323465233122416"
            ]
          },
          "metadata": {},
          "execution_count": 22
        }
      ]
    },
    {
      "cell_type": "code",
      "source": [],
      "metadata": {
        "id": "b2DJRNfI3BOE"
      },
      "execution_count": null,
      "outputs": []
    }
  ]
}